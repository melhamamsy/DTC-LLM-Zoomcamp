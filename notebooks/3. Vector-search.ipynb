{
 "cells": [
  {
   "cell_type": "code",
   "execution_count": 1,
   "id": "83c6b15d-89d0-4b9a-9556-5b1e5a466630",
   "metadata": {
    "tags": []
   },
   "outputs": [
    {
     "name": "stdout",
     "output_type": "stream",
     "text": [
      "HuggingFace cache directory\n",
      "($HF_HOME) has been set to: /mnt/workspace/__ing/llming/DTC/course/hf_cache\n",
      "\n",
      "HuggingFace transformers cache directory \n",
      "($TRANSFORMERS_CACHE) has been set to: /mnt/workspace/__ing/llming/DTC/course/hf_cache/transformers_cache\n",
      "\n",
      "HuggingFace sentenct transformers cache directory\n",
      "($SENTENCE_TRANSFORMERS_HOME) has been set to: /mnt/workspace/__ing/llming/DTC/course/hf_cache/transformers_cache\n",
      "\n",
      "Initialized environment variables listed in: /mnt/workspace/__ing/llming/DTC/course/.env\n"
     ]
    }
   ],
   "source": [
    "import sys\n",
    "import os\n",
    "import pandas as pd\n",
    "import pickle\n",
    "\n",
    "## replace with root project dir\n",
    "PROJECT_DIR = \"/mnt/workspace/__ing/llming/DTC/course\"\n",
    "sys.path.append(PROJECT_DIR)\n",
    "\n",
    "from utils.huggingface import (\n",
    "    setup_hf_cache_dir,\n",
    "    setup_transformers_cache_dir,\n",
    "    setup_sentence_transformers_cache_dir,\n",
    "    vectorize_sentences,\n",
    ")\n",
    "from utils.utils import (\n",
    "    initialize_env_variables,\n",
    "    load_json_document,\n",
    "    id_documents,\n",
    ")\n",
    "\n",
    "from utils.elasticsearch import (\n",
    "    elastic_search,\n",
    "    create_elasticsearch_client,\n",
    "    search_elasticsearch_indecis,\n",
    "    load_index_settings,\n",
    "    create_elasticsearch_index,\n",
    "    remove_elasticsearch_index,\n",
    "    index_documents,\n",
    "    knn_elastic_search,\n",
    "    get_index_mapping,\n",
    "    \n",
    ")\n",
    "\n",
    "from utils.query import (\n",
    "    search,\n",
    "    build_prompt,\n",
    "    llm,\n",
    "    rag,\n",
    ")\n",
    "\n",
    "from utils.groundtruth import generate_questions_using_openai\n",
    "\n",
    "from utils.evaluate import (\n",
    "    calculate_relevance,\n",
    "    hit_rate,\n",
    "    mrr\n",
    ")\n",
    "\n",
    "from utils import minsearch\n",
    "\n",
    "from utils.ollama import (\n",
    "    embed_documents,\n",
    "    get_embedding,\n",
    ")\n",
    "\n",
    "## HF_HOME\n",
    "setup_hf_cache_dir(\n",
    "    os.path.join(PROJECT_DIR, \"hf_cache\")\n",
    ")\n",
    "## TRANSFORMERS_CACHE\n",
    "setup_transformers_cache_dir(\n",
    "    os.path.join(PROJECT_DIR, \"hf_cache/transformers_cache\")\n",
    ")\n",
    "## SENTENCE_TRANSFORMERS_HOME\n",
    "setup_sentence_transformers_cache_dir(\n",
    "    os.path.join(PROJECT_DIR, \"hf_cache/transformers_cache\")\n",
    ")\n",
    "\n",
    "from transformers import T5Tokenizer, T5ForConditionalGeneration\n",
    "from sentence_transformers import SentenceTransformer\n",
    "from openai import OpenAI\n",
    "\n",
    "initialize_env_variables(PROJECT_DIR)\n",
    "client = OpenAI()"
   ]
  },
  {
   "cell_type": "markdown",
   "id": "6ff7785e-10f4-488a-976e-2478fa721b6d",
   "metadata": {
    "tags": []
   },
   "source": [
    "# Query & Documents"
   ]
  },
  {
   "cell_type": "code",
   "execution_count": 2,
   "id": "83d21575-3e61-4242-9548-9db9260d31de",
   "metadata": {
    "tags": []
   },
   "outputs": [],
   "source": [
    "## question\n",
    "query = 'How many hours per week?'"
   ]
  },
  {
   "cell_type": "code",
   "execution_count": 3,
   "id": "0f79b03e-9fe1-4e62-93d9-3281aac924ce",
   "metadata": {
    "tags": []
   },
   "outputs": [
    {
     "name": "stdout",
     "output_type": "stream",
     "text": [
      "{'text': 'It depends on your background and previous experience with modules. It is expected to require about 5 - 15 hours per week. [source1] [source2]\\nYou can also calculate it yourself using this data and then update this answer.', 'section': 'General course-related questions', 'question': 'Course - \\u200b\\u200bHow many hours per week am I expected to spend on this  course?', 'course': 'data-engineering-zoomcamp'}\n",
      "\n",
      "{'text': \"No, you can only get a certificate if you finish the course with a “live” cohort. We don't award certificates for the self-paced mode. The reason is you need to peer-review capstone(s) after submitting a project. You can only peer-review projects at the time the course is running.\", 'section': 'General course-related questions', 'question': 'Certificate - Can I follow the course in a self-paced mode and get a certificate?', 'course': 'data-engineering-zoomcamp'}\n",
      "\n"
     ]
    }
   ],
   "source": [
    "document_path = f'{PROJECT_DIR}/data/1/documents.json'\n",
    "\n",
    "documents = load_json_document(document_path)\n",
    "\n",
    "for _ in documents[10:12]:\n",
    "    print(_, end=\"\\n\\n\")"
   ]
  },
  {
   "cell_type": "markdown",
   "id": "16e844d6-a061-4657-9721-e2642d1feac3",
   "metadata": {
    "jp-MarkdownHeadingCollapsed": true,
    "tags": []
   },
   "source": [
    "# ElasticSearch Client"
   ]
  },
  {
   "cell_type": "code",
   "execution_count": 2,
   "id": "84f72e7a-aa54-44bf-ae11-797c37c9dbaa",
   "metadata": {
    "tags": []
   },
   "outputs": [
    {
     "ename": "ElasticsearchConnectionError",
     "evalue": "Could not connect to Elasticsearch",
     "output_type": "error",
     "traceback": [
      "\u001b[0;31m---------------------------------------------------------------------------\u001b[0m",
      "\u001b[0;31mElasticsearchConnectionError\u001b[0m              Traceback (most recent call last)",
      "Cell \u001b[0;32mIn[2], line 10\u001b[0m\n\u001b[1;32m      6\u001b[0m index_settings \u001b[38;5;241m=\u001b[39m load_index_settings(index_settings_path)\n\u001b[1;32m      8\u001b[0m recreate_index \u001b[38;5;241m=\u001b[39m \u001b[38;5;28;01mFalse\u001b[39;00m\n\u001b[0;32m---> 10\u001b[0m es_client \u001b[38;5;241m=\u001b[39m \u001b[43mcreate_elasticsearch_client\u001b[49m\u001b[43m(\u001b[49m\u001b[43mhost\u001b[49m\u001b[43m,\u001b[49m\u001b[43m \u001b[49m\u001b[43mport\u001b[49m\u001b[43m)\u001b[49m\n\u001b[1;32m     11\u001b[0m search_elasticsearch_indecis(es_client)\n",
      "File \u001b[0;32m/mnt/workspace/__ing/llming/DTC/course/utils/elasticsearch.py:36\u001b[0m, in \u001b[0;36mcreate_elasticsearch_client\u001b[0;34m(host, port)\u001b[0m\n\u001b[1;32m     34\u001b[0m \u001b[38;5;66;03m# Perform a simple request to check if the connection is successful\u001b[39;00m\n\u001b[1;32m     35\u001b[0m \u001b[38;5;28;01mif\u001b[39;00m \u001b[38;5;129;01mnot\u001b[39;00m es_client\u001b[38;5;241m.\u001b[39mping():\n\u001b[0;32m---> 36\u001b[0m     \u001b[38;5;28;01mraise\u001b[39;00m ElasticsearchConnectionError(\u001b[38;5;124m\"\u001b[39m\u001b[38;5;124mCould not connect to Elasticsearch\u001b[39m\u001b[38;5;124m\"\u001b[39m)\n\u001b[1;32m     37\u001b[0m \u001b[38;5;28mprint\u001b[39m(\u001b[38;5;124m\"\u001b[39m\u001b[38;5;124mConnected to Elasticsearch\u001b[39m\u001b[38;5;124m\"\u001b[39m)\n\u001b[1;32m     38\u001b[0m \u001b[38;5;28;01mreturn\u001b[39;00m es_client\n",
      "\u001b[0;31mElasticsearchConnectionError\u001b[0m: Could not connect to Elasticsearch"
     ]
    }
   ],
   "source": [
    "host = \"localhost\"\n",
    "port = 9200\n",
    "\n",
    "index_name = \"course-questions\"\n",
    "index_settings_path = os.path.join(PROJECT_DIR, \"config/elasticsearch/course_qa_vec_index_settings.json\")\n",
    "index_settings = load_index_settings(index_settings_path)\n",
    "\n",
    "recreate_index = False\n",
    "\n",
    "es_client = create_elasticsearch_client(host, port)\n",
    "search_elasticsearch_indecis(es_client)"
   ]
  },
  {
   "cell_type": "code",
   "execution_count": 5,
   "id": "82778a3e-7de8-44a4-b890-fff198c69407",
   "metadata": {
    "tags": []
   },
   "outputs": [],
   "source": [
    "if recreate_index:\n",
    "    remove_elasticsearch_index(es_client, index_name)\n",
    "    create_elasticsearch_index(es_client, index_name, index_settings)"
   ]
  },
  {
   "cell_type": "markdown",
   "id": "8e9190ab-ad0c-44aa-8e67-df94c1400a89",
   "metadata": {
    "jp-MarkdownHeadingCollapsed": true,
    "tags": []
   },
   "source": [
    "# Sentence Transformer"
   ]
  },
  {
   "cell_type": "code",
   "execution_count": 6,
   "id": "d2d4d008-76a5-4c7d-9922-8cb20f96ca30",
   "metadata": {
    "tags": []
   },
   "outputs": [],
   "source": [
    "model = SentenceTransformer(\"all-mpnet-base-v2\",)"
   ]
  },
  {
   "cell_type": "code",
   "execution_count": 7,
   "id": "120cb0ca-479e-4ee7-a03f-9aea1a4ba0d6",
   "metadata": {
    "tags": []
   },
   "outputs": [],
   "source": [
    "field_to_embed = \"text\"\n",
    "\n",
    "if recreate_index:\n",
    "    vectorized_documents = vectorize_sentences(\n",
    "        model, documents, field=field_to_embed\n",
    "    )\n",
    "\n",
    "    print(\"New Fields:\",vectorized_documents[0].keys())\n",
    "    print(\"Embedding shape:\",vectorized_documents[0][f\"{field_to_embed}_vector\"].__len__())"
   ]
  },
  {
   "cell_type": "markdown",
   "id": "ac8b1fac-8ae6-4390-8119-174c7e140fbf",
   "metadata": {
    "jp-MarkdownHeadingCollapsed": true,
    "tags": []
   },
   "source": [
    "# Index Vectorized Documents"
   ]
  },
  {
   "cell_type": "code",
   "execution_count": 8,
   "id": "7538e1e7-0659-4ef8-b9e9-28e30ce2be74",
   "metadata": {
    "tags": []
   },
   "outputs": [],
   "source": [
    "if recreate_index:\n",
    "    index_documents(es_client, index_name, vectorized_documents)"
   ]
  },
  {
   "cell_type": "code",
   "execution_count": 9,
   "id": "8c05b59f-aa45-43f4-bdfd-44c100413634",
   "metadata": {
    "tags": []
   },
   "outputs": [
    {
     "name": "stdout",
     "output_type": "stream",
     "text": [
      "Index Mapping:\n",
      "{'course': 'keyword', 'question': 'text', 'section': 'text', 'text': 'text', 'text_vector': 'dense_vector'}\n"
     ]
    }
   ],
   "source": [
    "print(\"Index Mapping:\")\n",
    "print(get_index_mapping(es_client, index_name))"
   ]
  },
  {
   "cell_type": "markdown",
   "id": "c094351b-e97e-4176-88e9-8b75dd3f9d70",
   "metadata": {
    "jp-MarkdownHeadingCollapsed": true,
    "tags": []
   },
   "source": [
    "# Query"
   ]
  },
  {
   "cell_type": "code",
   "execution_count": 10,
   "id": "dcc7fcde-886b-4c88-9fbc-f85498ff20f5",
   "metadata": {
    "tags": []
   },
   "outputs": [],
   "source": [
    "query_vector = model.encode(query)"
   ]
  },
  {
   "cell_type": "code",
   "execution_count": 11,
   "id": "b7b51ad1-0ff0-4674-9d80-8da310ead392",
   "metadata": {
    "tags": []
   },
   "outputs": [
    {
     "data": {
      "text/plain": [
       "[{'_index': 'course-questions',\n",
       "  '_id': 'COkP8JAB_XI7s67Kbb22',\n",
       "  '_score': 11.718761,\n",
       "  '_source': {'text': 'Around ~10 hours per week. Timur Kamaliev did a detailed analysis of how much time students of the previous cohort needed to spend on different modules and projects. Full article',\n",
       "   'section': 'General course-related questions',\n",
       "   'question': 'How much time do I need for this course?',\n",
       "   'course': 'machine-learning-zoomcamp'}}]"
      ]
     },
     "execution_count": 11,
     "metadata": {},
     "output_type": "execute_result"
    }
   ],
   "source": [
    "filter_dict = {\"section\": \"General course-related questions\"}\n",
    "field = f\"{field_to_embed}_vector\"\n",
    "k = 5\n",
    "num_results = 1\n",
    "\n",
    "\n",
    "knn_search_params = dict(\n",
    "    es_client=es_client,\n",
    "    index_name=index_name,\n",
    "    query_vector=query_vector,\n",
    "    filter_dict=filter_dict,\n",
    "    k=k,\n",
    "    field=field,\n",
    "    num_results=num_results,\n",
    ")\n",
    "\n",
    "\n",
    "knn_elastic_search(\n",
    "    **knn_search_params,\n",
    ")\n"
   ]
  },
  {
   "cell_type": "markdown",
   "id": "baddfb42-81e7-474b-b330-537bc7252750",
   "metadata": {},
   "source": [
    "# Evaluation"
   ]
  },
  {
   "cell_type": "markdown",
   "id": "5424448a-0403-4890-b1e9-9a08af811f75",
   "metadata": {
    "jp-MarkdownHeadingCollapsed": true,
    "tags": []
   },
   "source": [
    "## Ground Truth Generation"
   ]
  },
  {
   "cell_type": "code",
   "execution_count": 4,
   "id": "d2016885-fb79-41c7-aad5-26b3fc18ee0b",
   "metadata": {
    "tags": []
   },
   "outputs": [
    {
     "data": {
      "application/vnd.jupyter.widget-view+json": {
       "model_id": "d5c83c4fb454470297146b95bf0c0f36",
       "version_major": 2,
       "version_minor": 0
      },
      "text/plain": [
       "  0%|          | 0/5 [00:00<?, ?it/s]"
      ]
     },
     "metadata": {},
     "output_type": "display_data"
    }
   ],
   "source": [
    "documents = id_documents(documents)\n",
    "prompt_template_path = f\"{PROJECT_DIR}/prompts/generate_ground_truth.txt\"\n",
    "test_docs = documents[:5]\n",
    "\n",
    "generated_questions_df = generate_questions_using_openai(\n",
    "    client, prompt_template_path, test_docs, model_name='gpt-4o'\n",
    ")"
   ]
  },
  {
   "cell_type": "code",
   "execution_count": 5,
   "id": "2f526e02-27bc-43e3-a569-d0e752498da5",
   "metadata": {
    "collapsed": true,
    "jupyter": {
     "outputs_hidden": true
    },
    "tags": []
   },
   "outputs": [
    {
     "data": {
      "text/html": [
       "<div>\n",
       "<style scoped>\n",
       "    .dataframe tbody tr th:only-of-type {\n",
       "        vertical-align: middle;\n",
       "    }\n",
       "\n",
       "    .dataframe tbody tr th {\n",
       "        vertical-align: top;\n",
       "    }\n",
       "\n",
       "    .dataframe thead th {\n",
       "        text-align: right;\n",
       "    }\n",
       "</style>\n",
       "<table border=\"1\" class=\"dataframe\">\n",
       "  <thead>\n",
       "    <tr style=\"text-align: right;\">\n",
       "      <th></th>\n",
       "      <th>question</th>\n",
       "      <th>course</th>\n",
       "      <th>document</th>\n",
       "    </tr>\n",
       "  </thead>\n",
       "  <tbody>\n",
       "    <tr>\n",
       "      <th>0</th>\n",
       "      <td>What is the exact start date and time of the c...</td>\n",
       "      <td>data-engineering-zoomcamp</td>\n",
       "      <td>c02e79ef</td>\n",
       "    </tr>\n",
       "    <tr>\n",
       "      <th>1</th>\n",
       "      <td>How can I add the course schedule to my Google...</td>\n",
       "      <td>data-engineering-zoomcamp</td>\n",
       "      <td>c02e79ef</td>\n",
       "    </tr>\n",
       "    <tr>\n",
       "      <th>2</th>\n",
       "      <td>Where do I need to register before the course ...</td>\n",
       "      <td>data-engineering-zoomcamp</td>\n",
       "      <td>c02e79ef</td>\n",
       "    </tr>\n",
       "    <tr>\n",
       "      <th>3</th>\n",
       "      <td>Is there a communication channel for course an...</td>\n",
       "      <td>data-engineering-zoomcamp</td>\n",
       "      <td>c02e79ef</td>\n",
       "    </tr>\n",
       "    <tr>\n",
       "      <th>4</th>\n",
       "      <td>Should I join any other platforms or channels ...</td>\n",
       "      <td>data-engineering-zoomcamp</td>\n",
       "      <td>c02e79ef</td>\n",
       "    </tr>\n",
       "    <tr>\n",
       "      <th>5</th>\n",
       "      <td>questions</td>\n",
       "      <td>data-engineering-zoomcamp</td>\n",
       "      <td>1f6520ca</td>\n",
       "    </tr>\n",
       "    <tr>\n",
       "      <th>6</th>\n",
       "      <td>Am I eligible to join the course after it has ...</td>\n",
       "      <td>data-engineering-zoomcamp</td>\n",
       "      <td>7842b56a</td>\n",
       "    </tr>\n",
       "    <tr>\n",
       "      <th>7</th>\n",
       "      <td>Is it possible to submit homework assignments ...</td>\n",
       "      <td>data-engineering-zoomcamp</td>\n",
       "      <td>7842b56a</td>\n",
       "    </tr>\n",
       "    <tr>\n",
       "      <th>8</th>\n",
       "      <td>Are there any deadlines for final projects if ...</td>\n",
       "      <td>data-engineering-zoomcamp</td>\n",
       "      <td>7842b56a</td>\n",
       "    </tr>\n",
       "    <tr>\n",
       "      <th>9</th>\n",
       "      <td>Can I register for the course after the offici...</td>\n",
       "      <td>data-engineering-zoomcamp</td>\n",
       "      <td>7842b56a</td>\n",
       "    </tr>\n",
       "    <tr>\n",
       "      <th>10</th>\n",
       "      <td>Will late registration affect my eligibility t...</td>\n",
       "      <td>data-engineering-zoomcamp</td>\n",
       "      <td>7842b56a</td>\n",
       "    </tr>\n",
       "    <tr>\n",
       "      <th>11</th>\n",
       "      <td>question1</td>\n",
       "      <td>data-engineering-zoomcamp</td>\n",
       "      <td>0bbf41ec</td>\n",
       "    </tr>\n",
       "    <tr>\n",
       "      <th>12</th>\n",
       "      <td>question2</td>\n",
       "      <td>data-engineering-zoomcamp</td>\n",
       "      <td>0bbf41ec</td>\n",
       "    </tr>\n",
       "    <tr>\n",
       "      <th>13</th>\n",
       "      <td>question3</td>\n",
       "      <td>data-engineering-zoomcamp</td>\n",
       "      <td>0bbf41ec</td>\n",
       "    </tr>\n",
       "    <tr>\n",
       "      <th>14</th>\n",
       "      <td>question4</td>\n",
       "      <td>data-engineering-zoomcamp</td>\n",
       "      <td>0bbf41ec</td>\n",
       "    </tr>\n",
       "    <tr>\n",
       "      <th>15</th>\n",
       "      <td>question5</td>\n",
       "      <td>data-engineering-zoomcamp</td>\n",
       "      <td>0bbf41ec</td>\n",
       "    </tr>\n",
       "    <tr>\n",
       "      <th>16</th>\n",
       "      <td>What should I do to prepare before the course ...</td>\n",
       "      <td>data-engineering-zoomcamp</td>\n",
       "      <td>63394d91</td>\n",
       "    </tr>\n",
       "    <tr>\n",
       "      <th>17</th>\n",
       "      <td>What dependencies need to be installed before ...</td>\n",
       "      <td>data-engineering-zoomcamp</td>\n",
       "      <td>63394d91</td>\n",
       "    </tr>\n",
       "    <tr>\n",
       "      <th>18</th>\n",
       "      <td>How do I ensure I am ready for the course topics?</td>\n",
       "      <td>data-engineering-zoomcamp</td>\n",
       "      <td>63394d91</td>\n",
       "    </tr>\n",
       "    <tr>\n",
       "      <th>19</th>\n",
       "      <td>What prerequisites should I check before the c...</td>\n",
       "      <td>data-engineering-zoomcamp</td>\n",
       "      <td>63394d91</td>\n",
       "    </tr>\n",
       "    <tr>\n",
       "      <th>20</th>\n",
       "      <td>Which tools should be set up before the course?</td>\n",
       "      <td>data-engineering-zoomcamp</td>\n",
       "      <td>63394d91</td>\n",
       "    </tr>\n",
       "  </tbody>\n",
       "</table>\n",
       "</div>"
      ],
      "text/plain": [
       "                                             question  \\\n",
       "0   What is the exact start date and time of the c...   \n",
       "1   How can I add the course schedule to my Google...   \n",
       "2   Where do I need to register before the course ...   \n",
       "3   Is there a communication channel for course an...   \n",
       "4   Should I join any other platforms or channels ...   \n",
       "5                                           questions   \n",
       "6   Am I eligible to join the course after it has ...   \n",
       "7   Is it possible to submit homework assignments ...   \n",
       "8   Are there any deadlines for final projects if ...   \n",
       "9   Can I register for the course after the offici...   \n",
       "10  Will late registration affect my eligibility t...   \n",
       "11                                          question1   \n",
       "12                                          question2   \n",
       "13                                          question3   \n",
       "14                                          question4   \n",
       "15                                          question5   \n",
       "16  What should I do to prepare before the course ...   \n",
       "17  What dependencies need to be installed before ...   \n",
       "18  How do I ensure I am ready for the course topics?   \n",
       "19  What prerequisites should I check before the c...   \n",
       "20    Which tools should be set up before the course?   \n",
       "\n",
       "                       course  document  \n",
       "0   data-engineering-zoomcamp  c02e79ef  \n",
       "1   data-engineering-zoomcamp  c02e79ef  \n",
       "2   data-engineering-zoomcamp  c02e79ef  \n",
       "3   data-engineering-zoomcamp  c02e79ef  \n",
       "4   data-engineering-zoomcamp  c02e79ef  \n",
       "5   data-engineering-zoomcamp  1f6520ca  \n",
       "6   data-engineering-zoomcamp  7842b56a  \n",
       "7   data-engineering-zoomcamp  7842b56a  \n",
       "8   data-engineering-zoomcamp  7842b56a  \n",
       "9   data-engineering-zoomcamp  7842b56a  \n",
       "10  data-engineering-zoomcamp  7842b56a  \n",
       "11  data-engineering-zoomcamp  0bbf41ec  \n",
       "12  data-engineering-zoomcamp  0bbf41ec  \n",
       "13  data-engineering-zoomcamp  0bbf41ec  \n",
       "14  data-engineering-zoomcamp  0bbf41ec  \n",
       "15  data-engineering-zoomcamp  0bbf41ec  \n",
       "16  data-engineering-zoomcamp  63394d91  \n",
       "17  data-engineering-zoomcamp  63394d91  \n",
       "18  data-engineering-zoomcamp  63394d91  \n",
       "19  data-engineering-zoomcamp  63394d91  \n",
       "20  data-engineering-zoomcamp  63394d91  "
      ]
     },
     "execution_count": 5,
     "metadata": {},
     "output_type": "execute_result"
    }
   ],
   "source": [
    "generated_questions_df"
   ]
  },
  {
   "cell_type": "markdown",
   "id": "d3d49860-85f8-45f1-b85b-17c51616b103",
   "metadata": {
    "tags": []
   },
   "source": [
    "## Evaluate Text"
   ]
  },
  {
   "cell_type": "markdown",
   "id": "1bc2e5aa-25b4-41a3-b2f4-128580f97d7b",
   "metadata": {
    "tags": []
   },
   "source": [
    "### Elastic Search"
   ]
  },
  {
   "cell_type": "code",
   "execution_count": 4,
   "id": "26528b84-8b95-4df2-9959-b4a8dc289460",
   "metadata": {
    "tags": []
   },
   "outputs": [],
   "source": [
    "recreate_index = True ## set to True, if not already created\n",
    "\n",
    "documents = id_documents(documents)"
   ]
  },
  {
   "cell_type": "code",
   "execution_count": 5,
   "id": "0c485ffe-3af4-4a49-b5ee-d2675c4ebfd1",
   "metadata": {
    "tags": []
   },
   "outputs": [
    {
     "name": "stdout",
     "output_type": "stream",
     "text": [
      "Connected to Elasticsearch\n",
      "Successfully removed index course-questions.\n",
      "Successfully created index course-questions.\n"
     ]
    },
    {
     "data": {
      "application/vnd.jupyter.widget-view+json": {
       "model_id": "657eb1646f7a423885f351c3544905e1",
       "version_major": 2,
       "version_minor": 0
      },
      "text/plain": [
       "  0%|          | 0/948 [00:00<?, ?it/s]"
      ]
     },
     "metadata": {},
     "output_type": "display_data"
    },
    {
     "name": "stdout",
     "output_type": "stream",
     "text": [
      "Successfully indexed 948/948 documents in index course-questions\n"
     ]
    }
   ],
   "source": [
    "host = \"localhost\"\n",
    "port = 9200\n",
    "\n",
    "index_name = \"course-questions\"\n",
    "index_settings_path = os.path.join(PROJECT_DIR, \"config/elasticsearch/course_qa_id_index_settings.json\")\n",
    "index_settings = load_index_settings(index_settings_path)\n",
    "\n",
    "es_client = create_elasticsearch_client(host, port)\n",
    "search_elasticsearch_indecis(es_client)\n",
    "\n",
    "if recreate_index:\n",
    "    remove_elasticsearch_index(es_client, index_name)\n",
    "    create_elasticsearch_index(es_client, index_name, index_settings)\n",
    "    index_documents(es_client, index_name, documents)\n",
    "    \n",
    "## check\n",
    "expected_mapping = sorted(\n",
    "    list(documents[0].keys())\n",
    ")\n",
    "actual_mapping = sorted(\n",
    "    list(get_index_mapping(es_client, index_name).keys())\n",
    ")\n",
    "\n",
    "assert expected_mapping == actual_mapping"
   ]
  },
  {
   "cell_type": "code",
   "execution_count": 6,
   "id": "72f4e25a-422e-4801-8c8e-20b5fd397c88",
   "metadata": {
    "tags": []
   },
   "outputs": [
    {
     "data": {
      "application/vnd.jupyter.widget-view+json": {
       "model_id": "2ea20f22bd8c464ea3d6456bfd87046c",
       "version_major": 2,
       "version_minor": 0
      },
      "text/plain": [
       "  0%|          | 0/4627 [00:00<?, ?it/s]"
      ]
     },
     "metadata": {},
     "output_type": "display_data"
    }
   ],
   "source": [
    "from utils.temp import calculate_relevance\n",
    "from utils.elasticsearch import elastic_search\n",
    "from utils.query import search\n",
    "\n",
    "ground_truth_df_path = f'{PROJECT_DIR}/data/3/ground-truth-data.csv'\n",
    "boost = {'question': 3.0}\n",
    "num_results = 5\n",
    "\n",
    "df_ground_truth = pd.read_csv(ground_truth_df_path)\n",
    "\n",
    "search_callable_params=dict(\n",
    "    es_client=es_client,\n",
    "    index_name=index_name,\n",
    "    boost = boost,\n",
    "    num_results = num_results,   \n",
    ")\n",
    "\n",
    "relevance_total = calculate_relevance(\n",
    "    df_ground_truth=df_ground_truth,\n",
    "    search_callable=elastic_search,\n",
    "    search_callable_params=search_callable_params,\n",
    "    search_context='elasticsearch',\n",
    "    query_type='text',\n",
    ")"
   ]
  },
  {
   "cell_type": "code",
   "execution_count": 7,
   "id": "6e4271e6-af12-47a5-989a-46e5a548d0c2",
   "metadata": {
    "tags": []
   },
   "outputs": [
    {
     "name": "stdout",
     "output_type": "stream",
     "text": [
      "Hit Rate: 0.7395720769397017\n"
     ]
    }
   ],
   "source": [
    "print(\"Hit Rate:\",hit_rate(relevance_total))"
   ]
  },
  {
   "cell_type": "code",
   "execution_count": 8,
   "id": "e9b3f863-911e-4385-b5ed-8816854ffa6c",
   "metadata": {
    "tags": []
   },
   "outputs": [
    {
     "name": "stdout",
     "output_type": "stream",
     "text": [
      "MRR: 0.6029788920106625\n"
     ]
    }
   ],
   "source": [
    "print(\"MRR:\",mrr(relevance_total))"
   ]
  },
  {
   "cell_type": "markdown",
   "id": "18b2eb8d-917f-4d67-b895-5ec2a011287c",
   "metadata": {
    "jp-MarkdownHeadingCollapsed": true,
    "tags": []
   },
   "source": [
    "### Minsearch"
   ]
  },
  {
   "cell_type": "code",
   "execution_count": 10,
   "id": "bae8df7a-fbec-4be7-8c18-cc35916f2b66",
   "metadata": {
    "tags": []
   },
   "outputs": [
    {
     "data": {
      "text/plain": [
       "<utils.minsearch.Index at 0x7d6e3e1b3110>"
      ]
     },
     "execution_count": 10,
     "metadata": {},
     "output_type": "execute_result"
    }
   ],
   "source": [
    "index = minsearch.Index(\n",
    "    text_fields=[\"question\", \"text\", \"section\"],\n",
    "    keyword_fields=[\"course\", \"id\"]\n",
    ")\n",
    "\n",
    "index.fit(documents)"
   ]
  },
  {
   "cell_type": "code",
   "execution_count": 11,
   "id": "efd35e0f-8bf9-4ddb-86ec-d21617f2a4c3",
   "metadata": {
    "tags": []
   },
   "outputs": [
    {
     "data": {
      "application/vnd.jupyter.widget-view+json": {
       "model_id": "aacf817054a948a896baf606c38b10c1",
       "version_major": 2,
       "version_minor": 0
      },
      "text/plain": [
       "  0%|          | 0/4627 [00:00<?, ?it/s]"
      ]
     },
     "metadata": {},
     "output_type": "display_data"
    }
   ],
   "source": [
    "ground_truth_df_path = f'{PROJECT_DIR}/data/3/ground-truth-data.csv'\n",
    "boost = {'question': 3.0}\n",
    "num_results = 5\n",
    "\n",
    "df_ground_truth = pd.read_csv(ground_truth_df_path)\n",
    "\n",
    "\n",
    "search_callable_params=dict(\n",
    "    index=index,\n",
    "    boost=boost,\n",
    "    num_results=num_results, \n",
    ")\n",
    "\n",
    "relevance_total = calculate_relevance(\n",
    "    df_ground_truth=df_ground_truth,\n",
    "    search_callable=search,\n",
    "    search_callable_params=search_callable_params,\n",
    "    search_context='minsearch',\n",
    "    query_type='text',\n",
    ")"
   ]
  },
  {
   "cell_type": "code",
   "execution_count": 12,
   "id": "0be23ae4-3ec7-41c2-8bef-5d24f1e3bdc5",
   "metadata": {
    "tags": []
   },
   "outputs": [
    {
     "name": "stdout",
     "output_type": "stream",
     "text": [
      "Hit Rate: 0.7668035444132267\n",
      "MRR: 0.656202723146748\n"
     ]
    }
   ],
   "source": [
    "print(\"Hit Rate:\",hit_rate(relevance_total))\n",
    "print(\"MRR:\",mrr(relevance_total))"
   ]
  },
  {
   "cell_type": "markdown",
   "id": "cfc9a173-b634-47e4-a9b5-2bcb19bc7461",
   "metadata": {},
   "source": [
    "## Evaluate Vectors"
   ]
  },
  {
   "cell_type": "code",
   "execution_count": 4,
   "id": "37495e3a-4f5c-4185-94db-0ed794571159",
   "metadata": {
    "tags": []
   },
   "outputs": [
    {
     "name": "stdout",
     "output_type": "stream",
     "text": [
      "Connected to Elasticsearch\n",
      "['course-questions']\n"
     ]
    }
   ],
   "source": [
    "recreate_index = False ## set to True, if not already created\n",
    "documents = id_documents(documents)\n",
    "\n",
    "host = \"localhost\"\n",
    "port = 9200\n",
    "\n",
    "index_name = \"course-questions\"\n",
    "index_settings_path = os.path.join(PROJECT_DIR, \"config/elasticsearch/course_qa_id_vecs_index_settings.json\")\n",
    "index_settings = load_index_settings(index_settings_path)\n",
    "\n",
    "es_client = create_elasticsearch_client(host, port)\n",
    "print(search_elasticsearch_indecis(es_client))\n",
    "\n",
    "if recreate_index:\n",
    "    remove_elasticsearch_index(es_client, index_name)\n",
    "    create_elasticsearch_index(es_client, index_name, index_settings)"
   ]
  },
  {
   "cell_type": "code",
   "execution_count": 5,
   "id": "b4ac5fde-d32c-42f3-bf25-cf5bbe51aff1",
   "metadata": {
    "tags": []
   },
   "outputs": [],
   "source": [
    "client = OpenAI(\n",
    "    base_url='http://localhost:11434/v1/',\n",
    "    api_key='ollama',\n",
    ")"
   ]
  },
  {
   "cell_type": "code",
   "execution_count": 6,
   "id": "f6a75948-96c7-4e97-8e27-aa08bebf3049",
   "metadata": {
    "tags": []
   },
   "outputs": [],
   "source": [
    "model_name = 'locusai/multi-qa-minilm-l6-cos-v1'\n",
    "vectorized_documents_path = os.path.join(PROJECT_DIR,'data/3/vectorized_documents.pkl')"
   ]
  },
  {
   "cell_type": "code",
   "execution_count": 7,
   "id": "4689df62-88ed-428c-97a1-7b3405743a69",
   "metadata": {
    "tags": []
   },
   "outputs": [],
   "source": [
    "if os.path.exists(vectorized_documents_path):\n",
    "    with open(vectorized_documents_path, 'rb') as file:\n",
    "        vectorized_documents = pickle.load(file)\n",
    "else:\n",
    "    vectorized_documents = embed_documents(client, documents, model_name)\n",
    "    with open(vectorized_documents_path, 'wb') as file:\n",
    "        pickle.dump(vectorized_documents, file)"
   ]
  },
  {
   "cell_type": "code",
   "execution_count": 8,
   "id": "c191ed49-f980-4516-a689-6396cb6313c7",
   "metadata": {
    "tags": []
   },
   "outputs": [],
   "source": [
    "if recreate_index:\n",
    "    index_documents(es_client, index_name, vectorized_documents)\n",
    "\n",
    "# check\n",
    "expected_mapping = sorted(\n",
    "    list(vectorized_documents[0].keys())\n",
    ")\n",
    "actual_mapping = sorted(\n",
    "    list(get_index_mapping(es_client, index_name).keys())\n",
    ")\n",
    "\n",
    "assert expected_mapping == actual_mapping"
   ]
  },
  {
   "cell_type": "code",
   "execution_count": 9,
   "id": "4abbd8b4-eb72-46b4-a4e5-1256a680dfba",
   "metadata": {
    "tags": []
   },
   "outputs": [],
   "source": [
    "query = 'When does the course begin?'\n",
    "query_vector = get_embedding(\n",
    "    client, query, model_name='locusai/multi-qa-minilm-l6-cos-v1'\n",
    ")"
   ]
  },
  {
   "cell_type": "code",
   "execution_count": 10,
   "id": "aaf0f5cb-7213-47d0-8e65-d59e225d17aa",
   "metadata": {
    "tags": []
   },
   "outputs": [],
   "source": [
    "field = \"question_vector\"\n",
    "filter_dict={'course': 'data-engineering-zoomcamp'}\n",
    "\n",
    "params_dict = dict(\n",
    "    es_client=es_client,\n",
    "    index_name=index_name,\n",
    "    query_vector=query_vector,\n",
    "    filter_dict=filter_dict,\n",
    "    field=field,\n",
    "    k=5,\n",
    "    num_results = 5,\n",
    ")"
   ]
  },
  {
   "cell_type": "code",
   "execution_count": 11,
   "id": "a8c12bc5-822d-44c1-8527-b1680867015d",
   "metadata": {
    "tags": []
   },
   "outputs": [],
   "source": [
    "results = knn_elastic_search(\n",
    "    **params_dict,\n",
    ")"
   ]
  },
  {
   "cell_type": "code",
   "execution_count": 12,
   "id": "a7c25b01-4852-428f-8b7e-1161ba1370bc",
   "metadata": {
    "tags": []
   },
   "outputs": [
    {
     "data": {
      "text/plain": [
       "{'_index': 'course-questions',\n",
       " '_id': 'wCl39pAB_t9YwEPT8onI',\n",
       " '_score': 1.7546118,\n",
       " '_source': {'text': \"The purpose of this document is to capture frequently asked technical questions\\nThe exact day and hour of the course will be 15th Jan 2024 at 17h00. The course will start with the first  “Office Hours'' live.1\\nSubscribe to course public Google Calendar (it works from Desktop only).\\nRegister before the course starts using this link.\\nJoin the course Telegram channel with announcements.\\nDon’t forget to register in DataTalks.Club's Slack and join the channel.\",\n",
       "  'section': 'General course-related questions',\n",
       "  'question': 'Course - When will the course start?',\n",
       "  'course': 'data-engineering-zoomcamp',\n",
       "  'id': 'c02e79ef'},\n",
       " 'id': 'c02e79ef'}"
      ]
     },
     "execution_count": 12,
     "metadata": {},
     "output_type": "execute_result"
    }
   ],
   "source": [
    "results[0]"
   ]
  },
  {
   "cell_type": "code",
   "execution_count": 13,
   "id": "143c9e9f-db6b-4b12-b6f3-3cff60fc6434",
   "metadata": {
    "tags": []
   },
   "outputs": [
    {
     "data": {
      "application/vnd.jupyter.widget-view+json": {
       "model_id": "ce5aaed1629e44fea7539ce89a55cfcb",
       "version_major": 2,
       "version_minor": 0
      },
      "text/plain": [
       "  0%|          | 0/4627 [00:00<?, ?it/s]"
      ]
     },
     "metadata": {},
     "output_type": "display_data"
    }
   ],
   "source": [
    "from utils.elasticsearch import knn_elastic_search\n",
    "from utils.temp import calculate_relevance\n",
    "from utils.elasticsearch import elastic_search\n",
    "from utils.query import search\n",
    "\n",
    "client = OpenAI(\n",
    "    base_url='http://localhost:11434/v1/',\n",
    "    api_key='ollama',\n",
    ")\n",
    "model_name = 'locusai/multi-qa-minilm-l6-cos-v1'\n",
    "\n",
    "ground_truth_df_path = f'{PROJECT_DIR}/data/3/ground-truth-data.csv'\n",
    "df_ground_truth = pd.read_csv(ground_truth_df_path)\n",
    "\n",
    "num_results = 5\n",
    "k = 5\n",
    "field = 'question_vector'\n",
    "\n",
    "\n",
    "search_callable_params=dict(\n",
    "    es_client=es_client,\n",
    "    index_name=index_name,\n",
    "    k=k,\n",
    "    field=field,\n",
    "    num_results=num_results,\n",
    "    model_name=model_name,\n",
    "    client=client,\n",
    ")\n",
    "\n",
    "relevance_total = calculate_relevance(\n",
    "    df_ground_truth=df_ground_truth,\n",
    "    search_callable=knn_elastic_search,\n",
    "    search_callable_params=search_callable_params,\n",
    "    search_context='elasticsearch',\n",
    "    query_type='vector',\n",
    ")"
   ]
  },
  {
   "cell_type": "code",
   "execution_count": 14,
   "id": "f4ff4f89-a33f-4cc3-b32a-f95a21736f8a",
   "metadata": {
    "tags": []
   },
   "outputs": [
    {
     "name": "stdout",
     "output_type": "stream",
     "text": [
      "Hit Rate: 0.736330235573806\n",
      "MRR: 0.6540667098912186\n"
     ]
    }
   ],
   "source": [
    "print(\"Hit Rate:\",hit_rate(relevance_total))\n",
    "print(\"MRR:\",mrr(relevance_total))"
   ]
  }
 ],
 "metadata": {
  "kernelspec": {
   "display_name": "Python 3.11.5 (dtc-llm-env)",
   "language": "python",
   "name": "dtc-llm-env"
  },
  "language_info": {
   "codemirror_mode": {
    "name": "ipython",
    "version": 3
   },
   "file_extension": ".py",
   "mimetype": "text/x-python",
   "name": "python",
   "nbconvert_exporter": "python",
   "pygments_lexer": "ipython3",
   "version": "3.11.5"
  }
 },
 "nbformat": 4,
 "nbformat_minor": 5
}
