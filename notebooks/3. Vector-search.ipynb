{
 "cells": [
  {
   "cell_type": "code",
   "execution_count": 1,
   "id": "83c6b15d-89d0-4b9a-9556-5b1e5a466630",
   "metadata": {
    "tags": []
   },
   "outputs": [
    {
     "name": "stdout",
     "output_type": "stream",
     "text": [
      "HuggingFace cache directory\n",
      "($HF_HOME) has been set to: /mnt/workspace/__ing/llming/DTC/course/hf_cache\n",
      "\n",
      "HuggingFace transformers cache directory \n",
      "($TRANSFORMERS_CACHE) has been set to: /mnt/workspace/__ing/llming/DTC/course/hf_cache/transformers_cache\n",
      "\n",
      "HuggingFace sentenct transformers cache directory\n",
      "($SENTENCE_TRANSFORMERS_HOME) has been set to: /mnt/workspace/__ing/llming/DTC/course/hf_cache/transformers_cache\n",
      "\n"
     ]
    }
   ],
   "source": [
    "import sys\n",
    "import os\n",
    "\n",
    "## replace with root project dir\n",
    "PROJECT_DIR = \"/mnt/workspace/__ing/llming/DTC/course\"\n",
    "sys.path.append(PROJECT_DIR)\n",
    "\n",
    "from utils.huggingface import (\n",
    "    setup_hf_cache_dir,\n",
    "    setup_transformers_cache_dir,\n",
    "    setup_sentence_transformers_cache_dir,\n",
    "    vectorize_sentences\n",
    ")\n",
    "from utils.utils import load_json_document\n",
    "\n",
    "from utils.elasticsearch import (\n",
    "    create_elasticsearch_client,\n",
    "    search_elasticsearch_indecis,\n",
    "    load_index_settings,\n",
    "    create_elasticsearch_index,\n",
    "    remove_elasticsearch_index,\n",
    "    index_documents,\n",
    "    knn_elastic_search,\n",
    "    get_index_mapping,\n",
    ")\n",
    "\n",
    "from utils.query import rag\n",
    "\n",
    "## HF_HOME\n",
    "setup_hf_cache_dir(\n",
    "    os.path.join(PROJECT_DIR, \"hf_cache\")\n",
    ")\n",
    "## TRANSFORMERS_CACHE\n",
    "setup_transformers_cache_dir(\n",
    "    os.path.join(PROJECT_DIR, \"hf_cache/transformers_cache\")\n",
    ")\n",
    "## SENTENCE_TRANSFORMERS_HOME\n",
    "setup_sentence_transformers_cache_dir(\n",
    "    os.path.join(PROJECT_DIR, \"hf_cache/transformers_cache\")\n",
    ")\n",
    "\n",
    "from transformers import T5Tokenizer, T5ForConditionalGeneration\n",
    "from sentence_transformers import SentenceTransformer\n",
    "from openai import OpenAI"
   ]
  },
  {
   "cell_type": "markdown",
   "id": "6ff7785e-10f4-488a-976e-2478fa721b6d",
   "metadata": {
    "tags": []
   },
   "source": [
    "# Query & Documents"
   ]
  },
  {
   "cell_type": "code",
   "execution_count": 2,
   "id": "83d21575-3e61-4242-9548-9db9260d31de",
   "metadata": {
    "tags": []
   },
   "outputs": [],
   "source": [
    "## question\n",
    "query = 'How many hours per week?'"
   ]
  },
  {
   "cell_type": "code",
   "execution_count": 3,
   "id": "0f79b03e-9fe1-4e62-93d9-3281aac924ce",
   "metadata": {
    "tags": []
   },
   "outputs": [
    {
     "name": "stdout",
     "output_type": "stream",
     "text": [
      "{'text': 'It depends on your background and previous experience with modules. It is expected to require about 5 - 15 hours per week. [source1] [source2]\\nYou can also calculate it yourself using this data and then update this answer.', 'section': 'General course-related questions', 'question': 'Course - \\u200b\\u200bHow many hours per week am I expected to spend on this  course?', 'course': 'data-engineering-zoomcamp'}\n",
      "\n",
      "{'text': \"No, you can only get a certificate if you finish the course with a “live” cohort. We don't award certificates for the self-paced mode. The reason is you need to peer-review capstone(s) after submitting a project. You can only peer-review projects at the time the course is running.\", 'section': 'General course-related questions', 'question': 'Certificate - Can I follow the course in a self-paced mode and get a certificate?', 'course': 'data-engineering-zoomcamp'}\n",
      "\n"
     ]
    }
   ],
   "source": [
    "document_path = f'{PROJECT_DIR}/data/1/documents.json'\n",
    "\n",
    "documents = load_json_document(document_path)\n",
    "\n",
    "for _ in documents[10:12]:\n",
    "    print(_, end=\"\\n\\n\")"
   ]
  },
  {
   "cell_type": "markdown",
   "id": "16e844d6-a061-4657-9721-e2642d1feac3",
   "metadata": {
    "tags": []
   },
   "source": [
    "# ElasticSearch Client"
   ]
  },
  {
   "cell_type": "code",
   "execution_count": 4,
   "id": "84f72e7a-aa54-44bf-ae11-797c37c9dbaa",
   "metadata": {
    "tags": []
   },
   "outputs": [
    {
     "name": "stdout",
     "output_type": "stream",
     "text": [
      "Connected to Elasticsearch\n"
     ]
    },
    {
     "data": {
      "text/plain": [
       "['course-questions']"
      ]
     },
     "execution_count": 4,
     "metadata": {},
     "output_type": "execute_result"
    }
   ],
   "source": [
    "host = \"localhost\"\n",
    "port = 9200\n",
    "\n",
    "index_name = \"course-questions\"\n",
    "index_settings_path = os.path.join(PROJECT_DIR, \"config/elasticsearch/course_qa_vec_index_settings.json\")\n",
    "index_settings = load_index_settings(index_settings_path)\n",
    "\n",
    "recreate_index = False\n",
    "\n",
    "es_client = create_elasticsearch_client(host, port)\n",
    "search_elasticsearch_indecis(es_client)"
   ]
  },
  {
   "cell_type": "code",
   "execution_count": 5,
   "id": "82778a3e-7de8-44a4-b890-fff198c69407",
   "metadata": {
    "tags": []
   },
   "outputs": [],
   "source": [
    "if recreate_index:\n",
    "    remove_elasticsearch_index(es_client, index_name)\n",
    "    create_elasticsearch_index(es_client, index_name, index_settings)"
   ]
  },
  {
   "cell_type": "markdown",
   "id": "8e9190ab-ad0c-44aa-8e67-df94c1400a89",
   "metadata": {},
   "source": [
    "# Sentence Transformer"
   ]
  },
  {
   "cell_type": "code",
   "execution_count": 6,
   "id": "d2d4d008-76a5-4c7d-9922-8cb20f96ca30",
   "metadata": {
    "tags": []
   },
   "outputs": [],
   "source": [
    "model = SentenceTransformer(\"all-mpnet-base-v2\",)"
   ]
  },
  {
   "cell_type": "code",
   "execution_count": 7,
   "id": "120cb0ca-479e-4ee7-a03f-9aea1a4ba0d6",
   "metadata": {
    "tags": []
   },
   "outputs": [],
   "source": [
    "field_to_embed = \"text\"\n",
    "\n",
    "if recreate_index:\n",
    "    vectorized_documents = vectorize_sentences(\n",
    "        model, documents, field=field_to_embed\n",
    "    )\n",
    "\n",
    "    print(\"New Fields:\",vectorized_documents[0].keys())\n",
    "    print(\"Embedding shape:\",vectorized_documents[0][f\"{field_to_embed}_vector\"].__len__())"
   ]
  },
  {
   "cell_type": "markdown",
   "id": "ac8b1fac-8ae6-4390-8119-174c7e140fbf",
   "metadata": {},
   "source": [
    "# Index Vectorized Documents"
   ]
  },
  {
   "cell_type": "code",
   "execution_count": 8,
   "id": "7538e1e7-0659-4ef8-b9e9-28e30ce2be74",
   "metadata": {
    "tags": []
   },
   "outputs": [],
   "source": [
    "if recreate_index:\n",
    "    index_documents(es_client, index_name, vectorized_documents)"
   ]
  },
  {
   "cell_type": "code",
   "execution_count": 9,
   "id": "8c05b59f-aa45-43f4-bdfd-44c100413634",
   "metadata": {
    "tags": []
   },
   "outputs": [
    {
     "name": "stdout",
     "output_type": "stream",
     "text": [
      "Index Mapping:\n",
      "{'course': 'keyword', 'question': 'text', 'section': 'text', 'text': 'text', 'text_vector': 'dense_vector'}\n"
     ]
    }
   ],
   "source": [
    "print(\"Index Mapping:\")\n",
    "print(get_index_mapping(es_client, index_name))"
   ]
  },
  {
   "cell_type": "markdown",
   "id": "c094351b-e97e-4176-88e9-8b75dd3f9d70",
   "metadata": {},
   "source": [
    "# Query"
   ]
  },
  {
   "cell_type": "code",
   "execution_count": 10,
   "id": "dcc7fcde-886b-4c88-9fbc-f85498ff20f5",
   "metadata": {
    "tags": []
   },
   "outputs": [],
   "source": [
    "query_vector = model.encode(query)"
   ]
  },
  {
   "cell_type": "code",
   "execution_count": 11,
   "id": "b7b51ad1-0ff0-4674-9d80-8da310ead392",
   "metadata": {
    "tags": []
   },
   "outputs": [
    {
     "data": {
      "text/plain": [
       "[{'_index': 'course-questions',\n",
       "  '_id': 'COkP8JAB_XI7s67Kbb22',\n",
       "  '_score': 11.718761,\n",
       "  '_source': {'text': 'Around ~10 hours per week. Timur Kamaliev did a detailed analysis of how much time students of the previous cohort needed to spend on different modules and projects. Full article',\n",
       "   'section': 'General course-related questions',\n",
       "   'question': 'How much time do I need for this course?',\n",
       "   'course': 'machine-learning-zoomcamp'}}]"
      ]
     },
     "execution_count": 11,
     "metadata": {},
     "output_type": "execute_result"
    }
   ],
   "source": [
    "filter_dict = {\"section\": \"General course-related questions\"}\n",
    "field = f\"{field_to_embed}_vector\"\n",
    "k = 5\n",
    "num_results = 1\n",
    "\n",
    "\n",
    "knn_search_params = dict(\n",
    "    es_client=es_client,\n",
    "    index_name=index_name,\n",
    "    query_vector=query_vector,\n",
    "    filter_dict=filter_dict,\n",
    "    k=k,\n",
    "    field=field,\n",
    "    num_results=num_results,\n",
    ")\n",
    "\n",
    "\n",
    "knn_elastic_search(\n",
    "    **knn_search_params,\n",
    ")\n"
   ]
  },
  {
   "cell_type": "markdown",
   "id": "baddfb42-81e7-474b-b330-537bc7252750",
   "metadata": {},
   "source": [
    "# DUMP"
   ]
  },
  {
   "cell_type": "code",
   "execution_count": null,
   "id": "2c77233c-72fa-4a53-9204-fb072200db2c",
   "metadata": {},
   "outputs": [],
   "source": []
  }
 ],
 "metadata": {
  "kernelspec": {
   "display_name": "Python 3.11.5 (dtc-llm-env)",
   "language": "python",
   "name": "dtc-llm-env"
  },
  "language_info": {
   "codemirror_mode": {
    "name": "ipython",
    "version": 3
   },
   "file_extension": ".py",
   "mimetype": "text/x-python",
   "name": "python",
   "nbconvert_exporter": "python",
   "pygments_lexer": "ipython3",
   "version": "3.11.5"
  }
 },
 "nbformat": 4,
 "nbformat_minor": 5
}
