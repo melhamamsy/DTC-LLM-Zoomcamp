{
 "cells": [
  {
   "cell_type": "code",
   "execution_count": 1,
   "id": "41c31348-d5ed-4fce-b6d5-b19df4713fdc",
   "metadata": {
    "tags": []
   },
   "outputs": [
    {
     "name": "stdout",
     "output_type": "stream",
     "text": [
      "HuggingFace cache directory\n",
      "($HF_HOME) has been set to: /mnt/workspace/__ing/llming/DTC/course/hf_cache\n",
      "\n",
      "HuggingFace transformers cache directory \n",
      "($TRANSFORMERS_CACHE) has been set to: /mnt/workspace/__ing/llming/DTC/course/hf_cache/transformers_cache\n",
      "\n",
      "HuggingFace sentenct transformers cache directory\n",
      "($SENTENCE_TRANSFORMERS_HOME) has been set to: /mnt/workspace/__ing/llming/DTC/course/hf_cache/transformers_cache\n",
      "\n",
      "Initialized environment variables listed in: /mnt/workspace/__ing/llming/DTC/course/.env\n",
      "Initialized Ollama Client\n",
      "Connected to Elasticsearch\n",
      "{'course': 'keyword', 'id': 'keyword', 'question': 'text', 'question_text_vector': 'dense_vector', 'question_vector': 'dense_vector', 'section': 'text', 'text': 'text', 'text_vector': 'dense_vector'}\n"
     ]
    }
   ],
   "source": [
    "import sys\n",
    "import os\n",
    "import pandas as pd\n",
    "import numpy as np\n",
    "import pickle\n",
    "\n",
    "## replace with root project dir\n",
    "PROJECT_DIR = \"/mnt/workspace/__ing/llming/DTC/course\"\n",
    "sys.path.append(PROJECT_DIR)\n",
    "\n",
    "from utils.huggingface import (\n",
    "    setup_hf_cache_dir,\n",
    "    setup_transformers_cache_dir,\n",
    "    setup_sentence_transformers_cache_dir,\n",
    "    vectorize_sentences,\n",
    ")\n",
    "from utils.utils import (\n",
    "    initialize_env_variables,\n",
    "    load_json_document,\n",
    "    id_documents,\n",
    ")\n",
    "\n",
    "from utils.elasticsearch import (\n",
    "    elastic_search,\n",
    "    create_elasticsearch_client,\n",
    "    search_elasticsearch_indecis,\n",
    "    load_index_settings,\n",
    "    create_elasticsearch_index,\n",
    "    remove_elasticsearch_index,\n",
    "    index_documents,\n",
    "    knn_elastic_search,\n",
    "    get_index_mapping,\n",
    "    \n",
    ")\n",
    "\n",
    "from utils.query import (\n",
    "    search,\n",
    "    build_prompt,\n",
    "    llm,\n",
    "    rag,\n",
    ")\n",
    "\n",
    "from utils.groundtruth import generate_questions_using_openai\n",
    "\n",
    "from utils.evaluate import (\n",
    "    calculate_relevance,\n",
    "    hit_rate,\n",
    "    mrr,\n",
    "    llm_as_a_judge,\n",
    ")\n",
    "\n",
    "from utils import minsearch\n",
    "\n",
    "from utils.ollama import (\n",
    "    embed_documents,\n",
    "    get_embedding,\n",
    ")\n",
    "\n",
    "## HF_HOME\n",
    "setup_hf_cache_dir(\n",
    "    os.path.join(PROJECT_DIR, \"hf_cache\")\n",
    ")\n",
    "## TRANSFORMERS_CACHE\n",
    "setup_transformers_cache_dir(\n",
    "    os.path.join(PROJECT_DIR, \"hf_cache/transformers_cache\")\n",
    ")\n",
    "## SENTENCE_TRANSFORMERS_HOME\n",
    "setup_sentence_transformers_cache_dir(\n",
    "    os.path.join(PROJECT_DIR, \"hf_cache/transformers_cache\")\n",
    ")\n",
    "\n",
    "from transformers import T5Tokenizer, T5ForConditionalGeneration\n",
    "from sentence_transformers import SentenceTransformer\n",
    "from openai import OpenAI\n",
    "\n",
    "\n",
    "from utils.multithread import map_progress\n",
    "\n",
    "\n",
    "initialize_env_variables(PROJECT_DIR)\n",
    "\n",
    "\n",
    "client = OpenAI(\n",
    "    base_url='http://localhost:11434/v1/',\n",
    "    api_key='ollama',\n",
    ")\n",
    "print(\"Initialized Ollama Client\")\n",
    "\n",
    "\n",
    "host = \"localhost\"\n",
    "port = 9200\n",
    "index_name = \"course-questions\"\n",
    "\n",
    "es_client = create_elasticsearch_client(host, port)\n",
    "print(get_index_mapping(es_client, index_name))"
   ]
  },
  {
   "cell_type": "markdown",
   "id": "a16b2870-c13d-427d-88b6-d919b197d162",
   "metadata": {
    "jp-MarkdownHeadingCollapsed": true,
    "tags": []
   },
   "source": [
    "# Read data"
   ]
  },
  {
   "cell_type": "code",
   "execution_count": 2,
   "id": "11bb2201-f269-41d5-a6ff-17bcb33d17a8",
   "metadata": {
    "tags": []
   },
   "outputs": [],
   "source": [
    "gpt4o_df_path = os.path.join(PROJECT_DIR, \"data/4/results-gpt4o.csv\")\n",
    "gpt4o_df = pd.read_csv(gpt4o_df_path)\n",
    "\n",
    "gpt35_df_path = os.path.join(PROJECT_DIR, \"data/4/results-gpt35.csv\")\n",
    "gpt35_df = pd.read_csv(gpt35_df_path)\n",
    "\n",
    "\n",
    "model_name='locusai/multi-qa-minilm-l6-cos-v1'"
   ]
  },
  {
   "cell_type": "markdown",
   "id": "7ab572e4-8cfb-41e7-a74d-0ab5f54e5520",
   "metadata": {
    "jp-MarkdownHeadingCollapsed": true,
    "tags": []
   },
   "source": [
    "# Cosine Similarity"
   ]
  },
  {
   "cell_type": "code",
   "execution_count": 38,
   "id": "18175a6f-bfe1-48f3-ae3c-4957b411a268",
   "metadata": {
    "tags": []
   },
   "outputs": [
    {
     "data": {
      "application/vnd.jupyter.widget-view+json": {
       "model_id": "957d33b162494be6ad7a9badd337b033",
       "version_major": 2,
       "version_minor": 0
      },
      "text/plain": [
       "  0%|          | 0/1830 [00:00<?, ?it/s]"
      ]
     },
     "metadata": {},
     "output_type": "display_data"
    }
   ],
   "source": [
    "gpt4o_embeddings = map_progress(\n",
    "    f=lambda text: np.array(\n",
    "        get_embedding(client, text, model_name)\n",
    "    ),\n",
    "    seq=gpt4o_df['answer_llm'],\n",
    "    max_workers=4,\n",
    ")"
   ]
  },
  {
   "cell_type": "code",
   "execution_count": 39,
   "id": "8e52ef79-9dcd-4a69-9c55-60f6b939477a",
   "metadata": {
    "tags": []
   },
   "outputs": [
    {
     "data": {
      "application/vnd.jupyter.widget-view+json": {
       "model_id": "ebc92375db3946b6af35cfe17bb5f2a7",
       "version_major": 2,
       "version_minor": 0
      },
      "text/plain": [
       "  0%|          | 0/1830 [00:00<?, ?it/s]"
      ]
     },
     "metadata": {},
     "output_type": "display_data"
    }
   ],
   "source": [
    "orig_embeddings = map_progress(\n",
    "    f=lambda text: np.array(\n",
    "        get_embedding(client, text, model_name)\n",
    "    ),\n",
    "    seq=gpt4o_df['answer_orig'],\n",
    "    max_workers=6,\n",
    ")"
   ]
  },
  {
   "cell_type": "code",
   "execution_count": null,
   "id": "1426880d-e7b5-4cc2-8827-f164edb1d79b",
   "metadata": {},
   "outputs": [],
   "source": [
    "gpt35_embeddings = map_progress(\n",
    "    f=lambda text: np.array(\n",
    "        get_embedding(client, text, model_name)\n",
    "    ),\n",
    "    seq=gpt35_df['answer_llm'],\n",
    "    max_workers=4,\n",
    ")"
   ]
  },
  {
   "cell_type": "code",
   "execution_count": 41,
   "id": "25e94949-dacd-4eba-8a0d-0798a8f7f958",
   "metadata": {
    "tags": []
   },
   "outputs": [
    {
     "data": {
      "application/vnd.jupyter.widget-view+json": {
       "model_id": "ad9b74e8018948ee880a3c5b79451b5e",
       "version_major": 2,
       "version_minor": 0
      },
      "text/plain": [
       "  0%|          | 0/1830 [00:00<?, ?it/s]"
      ]
     },
     "metadata": {},
     "output_type": "display_data"
    }
   ],
   "source": [
    "gpt4o_orig_cosine_similarities = []\n",
    "gpt35_orig_cosine_similarities = []\n",
    "\n",
    "for i, orig_embedding in enumerate(tqdm(orig_embeddings)):\n",
    "    gpt4o_embedding = gpt4o_embeddings[i]\n",
    "    gpt35_embedding = gpt35_embeddings[i]\n",
    "    \n",
    "    gpt4o_orig_cosine_similarities.append(\n",
    "        orig_embedding.dot(gpt4o_embedding)\n",
    "    )\n",
    "    gpt35_orig_cosine_similarities.append(\n",
    "        orig_embedding.dot(gpt35_embedding)\n",
    "    )"
   ]
  },
  {
   "cell_type": "code",
   "execution_count": 58,
   "id": "815c1eef-607f-46ab-ab39-fb4177e5df3b",
   "metadata": {
    "tags": []
   },
   "outputs": [
    {
     "data": {
      "image/png": "[encoded data removed]",
      "text/plain": [
       "<Figure size 640x480 with 1 Axes>"
      ]
     },
     "metadata": {},
     "output_type": "display_data"
    }
   ],
   "source": [
    "import matplotlib.pyplot as plt\n",
    "import seaborn as sns\n",
    "\n",
    "sns.histplot(gpt4o_orig_cosine_similarities)\n",
    "sns.histplot(gpt35_orig_cosine_similarities)\n",
    "\n",
    "plt.legend(['gpt4o-orig','gpt3.5-orig'])\n",
    "plt.title('Cosine similarities distributions')\n",
    "\n",
    "plt.show()"
   ]
  },
  {
   "cell_type": "code",
   "execution_count": 51,
   "id": "d728b147-980a-4921-8ec0-b90b3718e171",
   "metadata": {
    "tags": []
   },
   "outputs": [
    {
     "name": "stdout",
     "output_type": "stream",
     "text": [
      "gpt4o-orig cosine similarities median: 0.7264333802668093\n",
      "gpt3.5-orig cosine similarities median: 0.7106725779410131\n"
     ]
    }
   ],
   "source": [
    "print(\n",
    "    \"gpt4o-orig cosine similarities median:\",\n",
    "    np.quantile(gpt4o_orig_cosine_similarities,0.5)\n",
    ")\n",
    "print(\n",
    "    \"gpt3.5-orig cosine similarities median:\",\n",
    "    np.quantile(gpt35_orig_cosine_similarities,0.5)\n",
    ")"
   ]
  },
  {
   "cell_type": "markdown",
   "id": "23e59543-e87f-4422-893e-fa933d28de46",
   "metadata": {
    "jp-MarkdownHeadingCollapsed": true,
    "tags": []
   },
   "source": [
    "# LLM as a Judge"
   ]
  },
  {
   "cell_type": "code",
   "execution_count": 3,
   "id": "986057d1-474c-4c17-baea-2d70aa8eea33",
   "metadata": {
    "tags": []
   },
   "outputs": [],
   "source": [
    "client = OpenAI()\n",
    "\n",
    "llm_as_a_judge_no_ans_path = os.path.join(\n",
    "    PROJECT_DIR,\n",
    "    'prompts/llm_as_a_judge_no_answer_provided.txt',\n",
    ")\n",
    "\n",
    "sample_df = gpt4o_df.sample(5)"
   ]
  },
  {
   "cell_type": "code",
   "execution_count": 4,
   "id": "0b8f0837-1808-46c9-ba15-2234322806a1",
   "metadata": {
    "tags": []
   },
   "outputs": [
    {
     "data": {
      "application/vnd.jupyter.widget-view+json": {
       "model_id": "4dc28996f5ed4077a1c1b0d9281fb008",
       "version_major": 2,
       "version_minor": 0
      },
      "text/plain": [
       "  0%|          | 0/5 [00:00<?, ?it/s]"
      ]
     },
     "metadata": {},
     "output_type": "display_data"
    }
   ],
   "source": [
    "results = llm_as_a_judge(\n",
    "    client,\n",
    "    llm_as_a_judge_no_ans_path,\n",
    "    sample_df,\n",
    "    model_name=\"gpt-3.5-turbo\",\n",
    ")"
   ]
  },
  {
   "cell_type": "code",
   "execution_count": 6,
   "id": "7ecb0b9b-c5fa-4a77-ab3a-c6b1e8639aca",
   "metadata": {
    "tags": []
   },
   "outputs": [
    {
     "data": {
      "text/plain": [
       "Relevance\n",
       "RELEVANT           3\n",
       "PARTLY_RELEVANT    2\n",
       "Name: count, dtype: int64"
      ]
     },
     "execution_count": 6,
     "metadata": {},
     "output_type": "execute_result"
    }
   ],
   "source": [
    "results_df = pd.DataFrame(results)\n",
    "\n",
    "results_df['Relevance'].value_counts()"
   ]
  },
  {
   "cell_type": "code",
   "execution_count": null,
   "id": "fd0a9263-287d-4527-8873-9d700de9a024",
   "metadata": {},
   "outputs": [],
   "source": []
  }
 ],
 "metadata": {
  "kernelspec": {
   "display_name": "Python 3.11.5 (dtc-llm-env)",
   "language": "python",
   "name": "dtc-llm-env"
  },
  "language_info": {
   "codemirror_mode": {
    "name": "ipython",
    "version": 3
   },
   "file_extension": ".py",
   "mimetype": "text/x-python",
   "name": "python",
   "nbconvert_exporter": "python",
   "pygments_lexer": "ipython3",
   "version": "3.11.5"
  }
 },
 "nbformat": 4,
 "nbformat_minor": 5
}
