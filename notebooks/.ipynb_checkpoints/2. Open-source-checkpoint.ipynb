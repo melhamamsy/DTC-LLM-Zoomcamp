{
 "cells": [
  {
   "cell_type": "code",
   "execution_count": 1,
   "id": "c6b5ab67-39e1-45ef-a2bb-317466279374",
   "metadata": {
    "tags": []
   },
   "outputs": [
    {
     "name": "stdout",
     "output_type": "stream",
     "text": [
      "HuggingFace cache directory has been set to: /mnt/workspace/__ing/llming/DTC/course/hf_cache\n"
     ]
    }
   ],
   "source": [
    "import sys\n",
    "import os\n",
    "\n",
    "## replace with root project dir\n",
    "PROJECT_DIR = \"/mnt/workspace/__ing/llming/DTC/course\"\n",
    "sys.path.append(PROJECT_DIR)\n",
    "\n",
    "from utils.huggingface.huggingface import setup_hf_cache_dir\n",
    "from utils.utils.data import load_json_document\n",
    "\n",
    "from utils.rag.elasticsearch import (\n",
    "    create_elasticsearch_client,\n",
    "    search_elasticsearch_indecis,\n",
    "    load_index_settings,\n",
    "    create_elasticsearch_index,\n",
    "    remove_elasticsearch_index,\n",
    "    index_documents,\n",
    ")\n",
    "\n",
    "from utils.rag.query import (\n",
    "    rag,\n",
    ")\n",
    "\n",
    "from transformers import T5Tokenizer, T5ForConditionalGeneration\n",
    "from openai import OpenAI\n",
    "\n",
    "\n",
    "\n",
    "setup_hf_cache_dir(os.path.join(PROJECT_DIR, \"hf_cache\"))"
   ]
  },
  {
   "cell_type": "markdown",
   "id": "af3c0f58-5beb-42b5-9cfd-b1f0f375b41d",
   "metadata": {
    "tags": []
   },
   "source": [
    "# Query & Documents"
   ]
  },
  {
   "cell_type": "code",
   "execution_count": 2,
   "id": "fc04d71e-d288-47fc-b2df-294035696f89",
   "metadata": {
    "tags": []
   },
   "outputs": [],
   "source": [
    "## question\n",
    "query = 'The course has already started, can I still enroll?'"
   ]
  },
  {
   "cell_type": "code",
   "execution_count": 3,
   "id": "683de922-eb20-4b46-b6fa-1a7eaac8d4f8",
   "metadata": {
    "tags": []
   },
   "outputs": [
    {
     "name": "stdout",
     "output_type": "stream",
     "text": [
      "{'text': 'It depends on your background and previous experience with modules. It is expected to require about 5 - 15 hours per week. [source1] [source2]\\nYou can also calculate it yourself using this data and then update this answer.', 'section': 'General course-related questions', 'question': 'Course - \\u200b\\u200bHow many hours per week am I expected to spend on this  course?', 'course': 'data-engineering-zoomcamp'}\n",
      "\n",
      "{'text': \"No, you can only get a certificate if you finish the course with a “live” cohort. We don't award certificates for the self-paced mode. The reason is you need to peer-review capstone(s) after submitting a project. You can only peer-review projects at the time the course is running.\", 'section': 'General course-related questions', 'question': 'Certificate - Can I follow the course in a self-paced mode and get a certificate?', 'course': 'data-engineering-zoomcamp'}\n",
      "\n"
     ]
    }
   ],
   "source": [
    "document_path = f'{PROJECT_DIR}/data/1/documents.json'\n",
    "\n",
    "documents = load_json_document(document_path)\n",
    "\n",
    "for _ in documents[10:12]:\n",
    "    print(_, end=\"\\n\\n\")"
   ]
  },
  {
   "cell_type": "markdown",
   "id": "0b8e2ccc-f954-4cff-b7db-63b9f2a5b685",
   "metadata": {
    "tags": []
   },
   "source": [
    "# ElasticSearch Client"
   ]
  },
  {
   "cell_type": "code",
   "execution_count": 5,
   "id": "e465b291-3c60-4fe9-a1b6-48b397476b06",
   "metadata": {
    "tags": []
   },
   "outputs": [
    {
     "name": "stdout",
     "output_type": "stream",
     "text": [
      "Connected to Elasticsearch\n"
     ]
    },
    {
     "data": {
      "text/plain": [
       "['course-questions']"
      ]
     },
     "execution_count": 5,
     "metadata": {},
     "output_type": "execute_result"
    }
   ],
   "source": [
    "host = \"localhost\"\n",
    "port = 9200\n",
    "\n",
    "index_name = \"course-questions\"\n",
    "index_settings_path=f\"{PROJECT_DIR}/config/elasticsearch/course_qa_index_settings.json\"\n",
    "index_settings = load_index_settings(index_settings_path)\n",
    "\n",
    "recreate_index = False\n",
    "\n",
    "es_client = create_elasticsearch_client(host, port)\n",
    "search_elasticsearch_indecis(es_client)"
   ]
  },
  {
   "cell_type": "code",
   "execution_count": 6,
   "id": "5a24d05a-4d84-497c-8636-3c2abf158f6b",
   "metadata": {
    "tags": []
   },
   "outputs": [
    {
     "name": "stdout",
     "output_type": "stream",
     "text": [
      "Connected to Elasticsearch\n",
      "Successfully removed index course-questions.\n",
      "Successfully created index course-questions.\n"
     ]
    },
    {
     "data": {
      "application/vnd.jupyter.widget-view+json": {
       "model_id": "42e414f73ece404e8d9387dff03ac402",
       "version_major": 2,
       "version_minor": 0
      },
      "text/plain": [
       "0it [00:00, ?it/s]"
      ]
     },
     "metadata": {},
     "output_type": "display_data"
    },
    {
     "name": "stdout",
     "output_type": "stream",
     "text": [
      "Successfully indexed 948/948 documents in index course-questions\n"
     ]
    }
   ],
   "source": [
    "if recreate_index:\n",
    "    es_client = create_elasticsearch_client(host, port)\n",
    "    remove_elasticsearch_index(es_client, index_name)\n",
    "    create_elasticsearch_index(es_client, index_name, index_settings)\n",
    "\n",
    "\n",
    "    index_documents(es_client, index_name, documents)"
   ]
  },
  {
   "cell_type": "code",
   "execution_count": 7,
   "id": "d282768c-350f-4e15-a2f6-20527729b9e0",
   "metadata": {
    "tags": []
   },
   "outputs": [
    {
     "data": {
      "text/plain": [
       "['course-questions']"
      ]
     },
     "execution_count": 7,
     "metadata": {},
     "output_type": "execute_result"
    }
   ],
   "source": [
    "search_elasticsearch_indecis(\n",
    "        es_client,\n",
    ")"
   ]
  },
  {
   "cell_type": "markdown",
   "id": "0ba8a0ef-8f9d-439f-bb9e-524456812555",
   "metadata": {
    "tags": []
   },
   "source": [
    "# HuggingFace models"
   ]
  },
  {
   "cell_type": "markdown",
   "id": "ea697e7f-88b4-4237-91fe-56ae9f80ecc0",
   "metadata": {
    "jp-MarkdownHeadingCollapsed": true,
    "tags": []
   },
   "source": [
    "## 1. flan-t5-small"
   ]
  },
  {
   "cell_type": "code",
   "execution_count": 18,
   "id": "e1c14b4f-3cbe-407c-9597-78c4250388b3",
   "metadata": {
    "tags": []
   },
   "outputs": [
    {
     "name": "stdout",
     "output_type": "stream",
     "text": [
      "Registration is just to gauge interest before the start date.\n"
     ]
    }
   ],
   "source": [
    "model_name = \"google/flan-t5-small\"\n",
    "\n",
    "search_context = 'elasticsearch'\n",
    "boost = {'question': 3.0, 'section': 0.5}\n",
    "filter_dict={'course': 'data-engineering-zoomcamp'}\n",
    "num_results = 5\n",
    "prompt_template_path = os.path.join(PROJECT_DIR,\"prompts/course_qa.txt\")\n",
    "\n",
    "\n",
    "rag_params = dict(\n",
    "    es_client=es_client,\n",
    "    query=query,\n",
    "    index_name=index_name,\n",
    "    filter_dict=filter_dict,\n",
    "    boost=boost,\n",
    "    num_results=num_results,\n",
    "    prompt_template_path=prompt_template_path,\n",
    "    model=model_name,\n",
    "    search_context=search_context\n",
    ")\n",
    "\n",
    "response = rag(**rag_params)\n",
    "print(response)"
   ]
  },
  {
   "cell_type": "markdown",
   "id": "8476678b-aef9-4c2f-a394-253c996f5920",
   "metadata": {},
   "source": [
    "# Ollama"
   ]
  },
  {
   "cell_type": "code",
   "execution_count": 5,
   "id": "0f1ebad3-7fcf-4a50-9a8f-195261c0f5b2",
   "metadata": {
    "tags": []
   },
   "outputs": [],
   "source": [
    "client = OpenAI(\n",
    "    base_url='http://localhost:11434/v1/',\n",
    "    api_key='ollama',\n",
    ")"
   ]
  },
  {
   "cell_type": "code",
   "execution_count": 8,
   "id": "d71e50c6-6339-49c8-b276-4ca4310ec125",
   "metadata": {
    "tags": []
   },
   "outputs": [
    {
     "ename": "NameError",
     "evalue": "name 'es_client' is not defined",
     "output_type": "error",
     "traceback": [
      "\u001b[0;31m---------------------------------------------------------------------------\u001b[0m",
      "\u001b[0;31mNameError\u001b[0m                                 Traceback (most recent call last)",
      "Cell \u001b[0;32mIn[8], line 11\u001b[0m\n\u001b[1;32m      6\u001b[0m num_results \u001b[38;5;241m=\u001b[39m \u001b[38;5;241m5\u001b[39m\n\u001b[1;32m      7\u001b[0m prompt_template_path \u001b[38;5;241m=\u001b[39m os\u001b[38;5;241m.\u001b[39mpath\u001b[38;5;241m.\u001b[39mjoin(PROJECT_DIR,\u001b[38;5;124m\"\u001b[39m\u001b[38;5;124mprompts/course_qa.txt\u001b[39m\u001b[38;5;124m\"\u001b[39m)\n\u001b[1;32m     10\u001b[0m rag_params \u001b[38;5;241m=\u001b[39m \u001b[38;5;28mdict\u001b[39m(\n\u001b[0;32m---> 11\u001b[0m     es_client\u001b[38;5;241m=\u001b[39m\u001b[43mes_client\u001b[49m,\n\u001b[1;32m     12\u001b[0m     client\u001b[38;5;241m=\u001b[39mclient,\n\u001b[1;32m     13\u001b[0m     query\u001b[38;5;241m=\u001b[39mquery,\n\u001b[1;32m     14\u001b[0m     index_name\u001b[38;5;241m=\u001b[39mindex_name,\n\u001b[1;32m     15\u001b[0m     filter_dict\u001b[38;5;241m=\u001b[39mfilter_dict,\n\u001b[1;32m     16\u001b[0m     boost\u001b[38;5;241m=\u001b[39mboost,\n\u001b[1;32m     17\u001b[0m     num_results\u001b[38;5;241m=\u001b[39mnum_results,\n\u001b[1;32m     18\u001b[0m     prompt_template_path\u001b[38;5;241m=\u001b[39mprompt_template_path,\n\u001b[1;32m     19\u001b[0m     model\u001b[38;5;241m=\u001b[39mmodel_name,\n\u001b[1;32m     20\u001b[0m     search_context\u001b[38;5;241m=\u001b[39msearch_context\n\u001b[1;32m     21\u001b[0m )\n\u001b[1;32m     23\u001b[0m response \u001b[38;5;241m=\u001b[39m rag(\u001b[38;5;241m*\u001b[39m\u001b[38;5;241m*\u001b[39mrag_params)\n\u001b[1;32m     24\u001b[0m \u001b[38;5;28mprint\u001b[39m(response)\n",
      "\u001b[0;31mNameError\u001b[0m: name 'es_client' is not defined"
     ]
    }
   ],
   "source": [
    "model_name = \"phi3\"\n",
    "\n",
    "search_context = 'elasticsearch'\n",
    "boost = {'question': 3.0, 'section': 0.5}\n",
    "filter_dict={'course': 'data-engineering-zoomcamp'}\n",
    "num_results = 5\n",
    "prompt_template_path = os.path.join(PROJECT_DIR,\"prompts/course_qa.txt\")\n",
    "\n",
    "\n",
    "rag_params = dict(\n",
    "    es_client=es_client,\n",
    "    client=client,\n",
    "    query=query,\n",
    "    index_name=index_name,\n",
    "    filter_dict=filter_dict,\n",
    "    boost=boost,\n",
    "    num_results=num_results,\n",
    "    prompt_template_path=prompt_template_path,\n",
    "    model=model_name,\n",
    "    search_context=search_context\n",
    ")\n",
    "\n",
    "response = rag(**rag_params)\n",
    "print(response)"
   ]
  },
  {
   "cell_type": "code",
   "execution_count": null,
   "id": "099a6024-6a67-453a-a6dc-13c1ce1f09bf",
   "metadata": {},
   "outputs": [],
   "source": []
  }
 ],
 "metadata": {
  "kernelspec": {
   "display_name": "Python 3.11.5 (dtc-llm-env)",
   "language": "python",
   "name": "dtc-llm-env"
  },
  "language_info": {
   "codemirror_mode": {
    "name": "ipython",
    "version": 3
   },
   "file_extension": ".py",
   "mimetype": "text/x-python",
   "name": "python",
   "nbconvert_exporter": "python",
   "pygments_lexer": "ipython3",
   "version": "3.11.5"
  }
 },
 "nbformat": 4,
 "nbformat_minor": 5
}
