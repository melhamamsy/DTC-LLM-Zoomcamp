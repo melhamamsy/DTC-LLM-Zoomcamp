{
 "cells": [
  {
   "cell_type": "code",
   "execution_count": 1,
   "id": "99cff8b4-65b9-4145-9010-cb3cf9ddd686",
   "metadata": {
    "tags": []
   },
   "outputs": [
    {
     "name": "stdout",
     "output_type": "stream",
     "text": [
      "Initialized environment variables listed in: /mnt/workspace/__ing/llming/DTC/course/.env\n"
     ]
    }
   ],
   "source": [
    "import os\n",
    "import sys \n",
    "\n",
    "## replace with root project dir\n",
    "sys.path.append(\"/mnt/workspace/__ing/llming/DTC/course\")\n",
    "\n",
    "\n",
    "from utils.utils.environment import initialize_env_variables\n",
    "\n",
    "# Initialize environment variables\n",
    "initialize_env_variables()"
   ]
  },
  {
   "cell_type": "markdown",
   "id": "413a040e-0fd6-4b0e-affa-57286d50861b",
   "metadata": {},
   "source": [
    "# OpenAI"
   ]
  },
  {
   "cell_type": "code",
   "execution_count": 3,
   "id": "c5402b56-0050-489d-a2a3-4bed220f12ea",
   "metadata": {
    "tags": []
   },
   "outputs": [],
   "source": [
    "from openai import OpenAI\n",
    "\n",
    "client = OpenAI()"
   ]
  },
  {
   "cell_type": "code",
   "execution_count": 5,
   "id": "1879fd7c-b91f-4b9d-8286-cf8ba6d54066",
   "metadata": {
    "tags": []
   },
   "outputs": [],
   "source": [
    "## question\n",
    "q = 'The course has already started, can I still enroll?'"
   ]
  },
  {
   "cell_type": "markdown",
   "id": "13a7afc1-f392-42c3-8e75-cc36a29cdbfa",
   "metadata": {},
   "source": [
    "## 1. No Context"
   ]
  },
  {
   "cell_type": "code",
   "execution_count": 6,
   "id": "e6e1e63e-1efa-43e7-b12d-a239a67c37bd",
   "metadata": {
    "tags": []
   },
   "outputs": [
    {
     "name": "stdout",
     "output_type": "stream",
     "text": [
      "Whether or not you can still enroll in a course that has already started depends on several factors, including the institution's policies, the specific course, and the instructor's discretion. Here are some steps you can take to find out:\n",
      "\n",
      "1. **Check the Course Catalog/Website**: Look for any information regarding late enrollment policies. Some institutions provide specific deadlines and procedures for late registration.\n",
      "\n",
      "2. **Contact the Registrar's Office**: They can provide details about whether late enrollment is possible and what steps you need to take.\n",
      "\n",
      "3. **Email the Instructor**: Reaching out directly to the course instructor can be very effective. Explain your situation and express your interest in the course. Some instructors may allow late enrollment, especially if the course structure supports it.\n",
      "\n",
      "4. **Review Prerequisites and Requirements**: Ensure that you meet any prerequisites and can catch up on missed material. Some courses may have essential early sessions that are critical for understanding the rest of the course.\n",
      "\n",
      "5. **Consider Online Options**: If late enrollment in an in-person class isn't possible, see if there are online versions of the course that might offer more flexibility.\n",
      "\n",
      "6. **Submit a Late Enrollment Petition**: Some institutions have formal processes for requesting late enrollment, usually involving a petition or special request form.\n",
      "\n",
      "7. **Financial Aid and Payment Deadlines**: Be aware of how late enrollment might affect your financial aid or payment deadlines.\n",
      "\n",
      "Taking these steps can help you determine whether late enrollment is a possibility and what you need to do to get enrolled.\n"
     ]
    }
   ],
   "source": [
    "response = client.chat.completions.create(\n",
    "    model='gpt-4o',\n",
    "    messages=[{\"role\": \"user\", \"content\": q}]\n",
    ")\n",
    "\n",
    "print(response.choices[0].message.content)"
   ]
  },
  {
   "cell_type": "markdown",
   "id": "6d0e87a3-a634-4cee-8714-bfbd7d28112f",
   "metadata": {},
   "source": [
    "## 2. "
   ]
  },
  {
   "cell_type": "code",
   "execution_count": null,
   "id": "06fd24b1-0c99-492e-839a-e0e8398fe1a6",
   "metadata": {},
   "outputs": [],
   "source": []
  }
 ],
 "metadata": {
  "kernelspec": {
   "display_name": "Python 3.11.5 (DTC-LLM)",
   "language": "python",
   "name": "dtc-llm-env"
  },
  "language_info": {
   "codemirror_mode": {
    "name": "ipython",
    "version": 3
   },
   "file_extension": ".py",
   "mimetype": "text/x-python",
   "name": "python",
   "nbconvert_exporter": "python",
   "pygments_lexer": "ipython3",
   "version": "3.11.5"
  }
 },
 "nbformat": 4,
 "nbformat_minor": 5
}
