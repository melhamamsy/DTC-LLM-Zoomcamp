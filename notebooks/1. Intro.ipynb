{
 "cells": [
  {
   "cell_type": "code",
   "execution_count": 1,
   "id": "99cff8b4-65b9-4145-9010-cb3cf9ddd686",
   "metadata": {
    "tags": []
   },
   "outputs": [
    {
     "name": "stdout",
     "output_type": "stream",
     "text": [
      "Initialized environment variables listed in: /mnt/workspace/__ing/llming/DTC/course/.env\n"
     ]
    }
   ],
   "source": [
    "import os\n",
    "import sys \n",
    "import json\n",
    "\n",
    "## replace with root project dir\n",
    "PROJECT_DIR = \"/mnt/workspace/__ing/llming/DTC/course\"\n",
    "sys.path.append(PROJECT_DIR)\n",
    "\n",
    "\n",
    "from utils.utils.environment import initialize_env_variables\n",
    "from utils.rag import minsearch\n",
    "from utils.utils.data import load_json_document\n",
    "from utils.rag.query import (\n",
    "    search,\n",
    "    build_prompt,\n",
    "    llm,\n",
    "    rag\n",
    ")\n",
    "from utils.rag.elasticsearch import (\n",
    "    create_elasticsearch_client,\n",
    "    search_elasticsearch_indecis,\n",
    "    load_index_settings,\n",
    "    create_elasticsearch_index,\n",
    "    remove_elasticsearch_index,\n",
    "    index_documents\n",
    ")\n",
    "from openai import OpenAI\n",
    "\n",
    "# Initialize environment variables\n",
    "initialize_env_variables()\n",
    "\n",
    "client = OpenAI()"
   ]
  },
  {
   "cell_type": "markdown",
   "id": "82070b85-b0ee-4f86-b3c5-ed94ad3ccde7",
   "metadata": {
    "tags": []
   },
   "source": [
    "# Query & Documents"
   ]
  },
  {
   "cell_type": "code",
   "execution_count": 7,
   "id": "1879fd7c-b91f-4b9d-8286-cf8ba6d54066",
   "metadata": {
    "tags": []
   },
   "outputs": [],
   "source": [
    "## question\n",
    "query = 'The course has already started, can I still enroll?'"
   ]
  },
  {
   "cell_type": "code",
   "execution_count": 8,
   "id": "a6a9dd60-302a-4921-b72b-0875f20d789a",
   "metadata": {
    "tags": []
   },
   "outputs": [
    {
     "name": "stdout",
     "output_type": "stream",
     "text": [
      "{'text': 'It depends on your background and previous experience with modules. It is expected to require about 5 - 15 hours per week. [source1] [source2]\\nYou can also calculate it yourself using this data and then update this answer.', 'section': 'General course-related questions', 'question': 'Course - \\u200b\\u200bHow many hours per week am I expected to spend on this  course?', 'course': 'data-engineering-zoomcamp'}\n",
      "\n",
      "{'text': \"No, you can only get a certificate if you finish the course with a “live” cohort. We don't award certificates for the self-paced mode. The reason is you need to peer-review capstone(s) after submitting a project. You can only peer-review projects at the time the course is running.\", 'section': 'General course-related questions', 'question': 'Certificate - Can I follow the course in a self-paced mode and get a certificate?', 'course': 'data-engineering-zoomcamp'}\n",
      "\n"
     ]
    }
   ],
   "source": [
    "document_path = f'{PROJECT_DIR}/data/1/documents.json'\n",
    "\n",
    "documents = load_json_document(document_path)\n",
    "\n",
    "for _ in documents[10:12]:\n",
    "    print(_, end=\"\\n\\n\")"
   ]
  },
  {
   "cell_type": "markdown",
   "id": "413a040e-0fd6-4b0e-affa-57286d50861b",
   "metadata": {},
   "source": [
    "# QA"
   ]
  },
  {
   "cell_type": "markdown",
   "id": "13a7afc1-f392-42c3-8e75-cc36a29cdbfa",
   "metadata": {
    "jp-MarkdownHeadingCollapsed": true,
    "tags": []
   },
   "source": [
    "## 1. No Context"
   ]
  },
  {
   "cell_type": "code",
   "execution_count": 4,
   "id": "e6e1e63e-1efa-43e7-b12d-a239a67c37bd",
   "metadata": {
    "tags": []
   },
   "outputs": [
    {
     "name": "stdout",
     "output_type": "stream",
     "text": [
      "It's often possible to enroll in a course even after it has started, but this can depend on several factors including the policies of the institution offering the course, the specific course itself, and how far along the course is. Here are some steps you can take to inquire about late enrollment:\n",
      "\n",
      "1. **Contact the Instructor or Department:**\n",
      "   - Reach out to the course instructor or the department offering the course. Explain your situation and ask if late enrollment is an option.\n",
      "\n",
      "2. **Check the Enrollment Policies:**\n",
      "   - Review the enrollment policies on the institution's website. Some institutions have official add/drop periods during which you can still register for courses without penalty.\n",
      "\n",
      "3. **Administrative Office:**\n",
      "   - Visit or contact the registrar's office or the admissions office. They can provide detailed information on late enrollment policies and help you with the process.\n",
      "\n",
      "4. **Prepare Your Case:**\n",
      "   - Be prepared to explain why you are enrolling late and how you plan to catch up on any missed work. Demonstrating commitment and a plan for catching up can help your case.\n",
      "\n",
      "5. **Online Courses:**\n",
      "   - If it's an online or hybrid course, there might be more flexibility with enrollment dates. Check the course platform for more details or contact support for assistance.\n",
      "\n",
      "6. **Tuition and Fees:**\n",
      "   - Be aware that late enrollment might come with additional fees or penalties.\n",
      "\n",
      "Each institution has its own set of rules and deadlines, so it's important to get in touch with them directly to understand your options. Good luck!\n"
     ]
    }
   ],
   "source": [
    "response = client.chat.completions.create(\n",
    "    model='gpt-4o',\n",
    "    messages=[{\"role\": \"user\", \"content\": query}]\n",
    ")\n",
    "\n",
    "print(response.choices[0].message.content)"
   ]
  },
  {
   "cell_type": "markdown",
   "id": "6d0e87a3-a634-4cee-8714-bfbd7d28112f",
   "metadata": {
    "jp-MarkdownHeadingCollapsed": true,
    "tags": []
   },
   "source": [
    "## 2. RAG using minsearch\n",
    "\n",
    "\n",
    "!wget https://raw.githubusercontent.com/alexeygrigorev/minsearch/main/minsearch.py"
   ]
  },
  {
   "cell_type": "code",
   "execution_count": 5,
   "id": "39fbbbbf-a04f-4026-ba36-6ad325114a40",
   "metadata": {
    "tags": []
   },
   "outputs": [
    {
     "data": {
      "text/plain": [
       "<utils.rag.minsearch.Index at 0x7feb805f99d0>"
      ]
     },
     "execution_count": 5,
     "metadata": {},
     "output_type": "execute_result"
    }
   ],
   "source": [
    "index = minsearch.Index(\n",
    "    text_fields=[\"question\", \"text\", \"section\"],\n",
    "    keyword_fields=[\"course\"]\n",
    ")\n",
    "\n",
    "index.fit(documents)"
   ]
  },
  {
   "cell_type": "code",
   "execution_count": 6,
   "id": "1673cd8f-d4ca-480f-98b1-778d1e2baf00",
   "metadata": {
    "tags": []
   },
   "outputs": [],
   "source": [
    "## Relative importance compared to text, question is 3 times important.\n",
    "boost = {'question': 3.0, 'section': 0.5}\n",
    "\n",
    "## Which documents to search in\n",
    "filter_dict={'course': 'data-engineering-zoomcamp'}\n",
    "\n",
    "## Number of documents to retrieve\n",
    "num_results = 5"
   ]
  },
  {
   "cell_type": "code",
   "execution_count": 7,
   "id": "7f959107-9c5e-45e6-83f1-658fad37ff69",
   "metadata": {
    "tags": []
   },
   "outputs": [
    {
     "name": "stdout",
     "output_type": "stream",
     "text": [
      "{'text': \"Yes, even if you don't register, you're still eligible to submit the homeworks.\\nBe aware, however, that there will be deadlines for turning in the final projects. So don't leave everything for the last minute.\", 'section': 'General course-related questions', 'question': 'Course - Can I still join the course after the start date?', 'course': 'data-engineering-zoomcamp'}\n",
      "\n",
      "{'text': 'Yes, we will keep all the materials after the course finishes, so you can follow the course at your own pace after it finishes.\\nYou can also continue looking at the homeworks and continue preparing for the next cohort. I guess you can also start working on your final capstone project.', 'section': 'General course-related questions', 'question': 'Course - Can I follow the course after it finishes?', 'course': 'data-engineering-zoomcamp'}\n",
      "\n",
      "{'text': \"The purpose of this document is to capture frequently asked technical questions\\nThe exact day and hour of the course will be 15th Jan 2024 at 17h00. The course will start with the first  “Office Hours'' live.1\\nSubscribe to course public Google Calendar (it works from Desktop only).\\nRegister before the course starts using this link.\\nJoin the course Telegram channel with announcements.\\nDon’t forget to register in DataTalks.Club's Slack and join the channel.\", 'section': 'General course-related questions', 'question': 'Course - When will the course start?', 'course': 'data-engineering-zoomcamp'}\n",
      "\n",
      "{'text': 'You can start by installing and setting up all the dependencies and requirements:\\nGoogle cloud account\\nGoogle Cloud SDK\\nPython 3 (installed with Anaconda)\\nTerraform\\nGit\\nLook over the prerequisites and syllabus to see if you are comfortable with these subjects.', 'section': 'General course-related questions', 'question': 'Course - What can I do before the course starts?', 'course': 'data-engineering-zoomcamp'}\n",
      "\n",
      "{'text': 'Yes, the slack channel remains open and you can ask questions there. But always sDocker containers exit code w search the channel first and second, check the FAQ (this document), most likely all your questions are already answered here.\\nYou can also tag the bot @ZoomcampQABot to help you conduct the search, but don’t rely on its answers 100%, it is pretty good though.', 'section': 'General course-related questions', 'question': 'Course - Can I get support if I take the course in the self-paced mode?', 'course': 'data-engineering-zoomcamp'}\n",
      "\n"
     ]
    }
   ],
   "source": [
    "search_results = search(query, index, filter_dict, boost, num_results)\n",
    "\n",
    "for _ in search_results:\n",
    "    print(_, end=\"\\n\\n\")"
   ]
  },
  {
   "cell_type": "code",
   "execution_count": 8,
   "id": "4042106a-ff3f-461d-b19c-33d698c19781",
   "metadata": {
    "tags": []
   },
   "outputs": [
    {
     "name": "stdout",
     "output_type": "stream",
     "text": [
      "You're a course teaching assistant. Answer the QUESTION based on the CONTEXT from the FAQ database.\n",
      "Use only the facts from the CONTEXT when answering the QUESTION.\n",
      "\n",
      "QUESTION: The course has already started, can I still enroll?\n",
      "\n",
      "CONTEXT: \n",
      "section: General course-related questions\n",
      "question: Course - Can I still join the course after the start date?\n",
      "answer: Yes, even if you don't register, you're still eligible to submit the homeworks.\n",
      "Be aware, however, that there will be deadlines for turning in the final projects. So don't leave everything for the last minute.\n",
      "\n",
      "section: General course-related questions\n",
      "question: Course - Can I follow the course after it finishes?\n",
      "answer: Yes, we will keep all the materials after the course finishes, so you can follow the course at your own pace after it finishes.\n",
      "You can also continue looking at the homeworks and continue preparing for the next cohort. I guess you can also start working on your final capstone project.\n",
      "\n",
      "section: General course-related questions\n",
      "question: Course - When will the course start?\n",
      "answer: The purpose of this document is to capture frequently asked technical questions\n",
      "The exact day and hour of the course will be 15th Jan 2024 at 17h00. The course will start with the first  “Office Hours'' live.1\n",
      "Subscribe to course public Google Calendar (it works from Desktop only).\n",
      "Register before the course starts using this link.\n",
      "Join the course Telegram channel with announcements.\n",
      "Don’t forget to register in DataTalks.Club's Slack and join the channel.\n",
      "\n",
      "section: General course-related questions\n",
      "question: Course - What can I do before the course starts?\n",
      "answer: You can start by installing and setting up all the dependencies and requirements:\n",
      "Google cloud account\n",
      "Google Cloud SDK\n",
      "Python 3 (installed with Anaconda)\n",
      "Terraform\n",
      "Git\n",
      "Look over the prerequisites and syllabus to see if you are comfortable with these subjects.\n",
      "\n",
      "section: General course-related questions\n",
      "question: Course - Can I get support if I take the course in the self-paced mode?\n",
      "answer: Yes, the slack channel remains open and you can ask questions there. But always sDocker containers exit code w search the channel first and second, check the FAQ (this document), most likely all your questions are already answered here.\n",
      "You can also tag the bot @ZoomcampQABot to help you conduct the search, but don’t rely on its answers 100%, it is pretty good though.\n"
     ]
    }
   ],
   "source": [
    "prompt_template_path = f\"{PROJECT_DIR}/prompts/course_qa.txt\"\n",
    "\n",
    "prompt = build_prompt(query, search_results, prompt_template_path)\n",
    "\n",
    "print(prompt)"
   ]
  },
  {
   "cell_type": "code",
   "execution_count": 9,
   "id": "e0ccfd72-8bbf-41c2-b821-0e6a73de783b",
   "metadata": {
    "tags": []
   },
   "outputs": [
    {
     "name": "stdout",
     "output_type": "stream",
     "text": [
      "Yes, you can still enroll even after the course has started. You are eligible to submit the homeworks, but be mindful of the deadlines for the final projects, as it is important not to leave everything until the last minute.\n"
     ]
    }
   ],
   "source": [
    "model = 'gpt-4o'\n",
    "\n",
    "response = llm(client, prompt, model)\n",
    "\n",
    "print(response)"
   ]
  },
  {
   "cell_type": "code",
   "execution_count": 10,
   "id": "574476b3-75cb-4bbf-8ddc-dc34a1e34654",
   "metadata": {
    "tags": []
   },
   "outputs": [
    {
     "name": "stdout",
     "output_type": "stream",
     "text": [
      "Yes, you can still enroll in the course even after it has started. You are eligible to submit the homework assignments, but keep in mind that there will be deadlines for turning in the final projects, so it's advisable not to delay your work until the last minute.\n"
     ]
    }
   ],
   "source": [
    "rag_params = dict(\n",
    "    query=query,\n",
    "    index=index,\n",
    "    filter_dict=filter_dict,\n",
    "    boost=boost,\n",
    "    num_results=num_results,\n",
    "    prompt_template_path=prompt_template_path,\n",
    "    client=client,\n",
    "    model=model\n",
    ")\n",
    "\n",
    "response = rag(**rag_params)\n",
    "print(response)"
   ]
  },
  {
   "cell_type": "markdown",
   "id": "f11b7302-3419-4a03-9222-3941f9b93de6",
   "metadata": {
    "tags": []
   },
   "source": [
    "## 3. RAG using Elastic Search"
   ]
  },
  {
   "cell_type": "markdown",
   "id": "76a0e39d-117b-4f54-8dd5-def1d731dca9",
   "metadata": {
    "jp-MarkdownHeadingCollapsed": true,
    "tags": []
   },
   "source": [
    "### 3.1 Client & Index Creation"
   ]
  },
  {
   "cell_type": "code",
   "execution_count": 2,
   "id": "fde6ef9f-7f3e-4822-bd4b-95d9894c0146",
   "metadata": {
    "tags": []
   },
   "outputs": [
    {
     "name": "stdout",
     "output_type": "stream",
     "text": [
      "Connected to Elasticsearch\n"
     ]
    }
   ],
   "source": [
    "host = \"localhost\"\n",
    "port = 9200\n",
    "\n",
    "index_name = \"course-questions\"\n",
    "index_settings_path=f\"{PROJECT_DIR}/config/elasticsearch/course_qa_index_settings.json\"\n",
    "index_settings = load_index_settings(index_settings_path)\n",
    "\n",
    "\n",
    "es_client = create_elasticsearch_client(host, port)"
   ]
  },
  {
   "cell_type": "code",
   "execution_count": 3,
   "id": "0226a6c2-fb62-41ba-8fec-8514a50eef6b",
   "metadata": {
    "tags": []
   },
   "outputs": [
    {
     "name": "stdout",
     "output_type": "stream",
     "text": [
      "Found no index with name course-questions, nothing to remove.\n"
     ]
    }
   ],
   "source": [
    "remove_elasticsearch_index(\n",
    "        es_client,\n",
    "        index_name\n",
    ")"
   ]
  },
  {
   "cell_type": "code",
   "execution_count": 4,
   "id": "e3e4a600-23ba-4e82-a265-c64e35fde8dd",
   "metadata": {
    "tags": []
   },
   "outputs": [
    {
     "name": "stdout",
     "output_type": "stream",
     "text": [
      "Successfully created index course-questions.\n"
     ]
    }
   ],
   "source": [
    "create_elasticsearch_index(\n",
    "        es_client,\n",
    "        index_name,\n",
    "        index_settings\n",
    ")"
   ]
  },
  {
   "cell_type": "code",
   "execution_count": 5,
   "id": "0de43370-e043-456b-af18-e67a7a000029",
   "metadata": {
    "tags": []
   },
   "outputs": [
    {
     "name": "stdout",
     "output_type": "stream",
     "text": [
      "course-questions\n"
     ]
    }
   ],
   "source": [
    "for _ in search_elasticsearch_indecis(es_client):\n",
    "    print(_, end=\"\\n\")"
   ]
  },
  {
   "cell_type": "markdown",
   "id": "78c3b6d9-0302-4a53-a5ae-bfd4c64ef79c",
   "metadata": {
    "jp-MarkdownHeadingCollapsed": true,
    "tags": []
   },
   "source": [
    "### 3.2 Indexing Documents"
   ]
  },
  {
   "cell_type": "code",
   "execution_count": 9,
   "id": "0eb1d449-2aca-49dc-8f53-352857f0205f",
   "metadata": {
    "tags": []
   },
   "outputs": [
    {
     "data": {
      "application/vnd.jupyter.widget-view+json": {
       "model_id": "4d86e38a4d0445f193e448581386e89d",
       "version_major": 2,
       "version_minor": 0
      },
      "text/plain": [
       "0it [00:00, ?it/s]"
      ]
     },
     "metadata": {},
     "output_type": "display_data"
    },
    {
     "name": "stdout",
     "output_type": "stream",
     "text": [
      "Successfully indexed 948/948 documents in index course-questions\n"
     ]
    }
   ],
   "source": [
    "index_documents(es_client, index_name, documents)"
   ]
  },
  {
   "cell_type": "markdown",
   "id": "ebd189d8-b4e2-4f64-8a29-ccb7241b3b41",
   "metadata": {
    "tags": []
   },
   "source": [
    "### 3.3 Quering"
   ]
  },
  {
   "cell_type": "code",
   "execution_count": 10,
   "id": "b6079f25-ff6d-41dd-9133-4978afd42781",
   "metadata": {
    "tags": []
   },
   "outputs": [
    {
     "name": "stdout",
     "output_type": "stream",
     "text": [
      "Yes, you can still enroll in the course even after it has started. However, be mindful of the deadlines for submitting final projects to ensure you don’t leave everything to the last minute.\n"
     ]
    }
   ],
   "source": [
    "search_context = 'elasticsearch'\n",
    "model = 'gpt-4o'\n",
    "boost = {'question': 3.0, 'section': 0.5}\n",
    "filter_dict={'course': 'data-engineering-zoomcamp'}\n",
    "num_results = 5\n",
    "prompt_template_path = f\"{PROJECT_DIR}/prompts/course_qa.txt\"\n",
    "\n",
    "\n",
    "rag_params = dict(\n",
    "    es_client=es_client,\n",
    "    query=query,\n",
    "    index_name=index_name,\n",
    "    filter_dict=filter_dict,\n",
    "    boost=boost,\n",
    "    num_results=num_results,\n",
    "    prompt_template_path=prompt_template_path,\n",
    "    client=client,\n",
    "    model=model,\n",
    "    search_context=search_context\n",
    ")\n",
    "\n",
    "response = rag(**rag_params)\n",
    "print(response)"
   ]
  },
  {
   "cell_type": "code",
   "execution_count": 11,
   "id": "70d3d268-56c9-4c3d-8d6a-5f27969e1570",
   "metadata": {
    "tags": []
   },
   "outputs": [
    {
     "name": "stdout",
     "output_type": "stream",
     "text": [
      "Yes, you can still enroll in the course even after it has started. You are eligible to submit the homework assignments, but keep in mind that there will be deadlines for turning in the final projects, so it's advisable not to leave everything until the last minute.\n"
     ]
    }
   ],
   "source": [
    "search_context = 'minsearch'\n",
    "model = 'gpt-4o'\n",
    "boost = {'question': 3.0, 'section': 0.5}\n",
    "filter_dict={'course': 'data-engineering-zoomcamp'}\n",
    "num_results = 5\n",
    "prompt_template_path = f\"{PROJECT_DIR}/prompts/course_qa.txt\"\n",
    "\n",
    "index = minsearch.Index(\n",
    "    text_fields=[\"question\", \"text\", \"section\"],\n",
    "    keyword_fields=[\"course\"]\n",
    ")\n",
    "\n",
    "index.fit(documents)\n",
    "\n",
    "rag_params = dict(\n",
    "    query=query,\n",
    "    index=index,\n",
    "    filter_dict=filter_dict,\n",
    "    boost=boost,\n",
    "    num_results=num_results,\n",
    "    prompt_template_path=prompt_template_path,\n",
    "    client=client,\n",
    "    model=model,\n",
    "    search_context=search_context\n",
    ")\n",
    "\n",
    "response = rag(**rag_params)\n",
    "print(response)"
   ]
  },
  {
   "cell_type": "code",
   "execution_count": 5,
   "id": "f6a1cc66-0d92-4215-9d1c-852be79db060",
   "metadata": {
    "tags": []
   },
   "outputs": [
    {
     "ename": "SearchContextWrongValueError",
     "evalue": "Parameter search_context value must be in ['minsearch', 'elasticsearch'] or None",
     "output_type": "error",
     "traceback": [
      "\u001b[0;31m---------------------------------------------------------------------------\u001b[0m",
      "\u001b[0;31mSearchContextWrongValueError\u001b[0m              Traceback (most recent call last)",
      "Cell \u001b[0;32mIn[5], line 27\u001b[0m\n\u001b[1;32m     13\u001b[0m index\u001b[38;5;241m.\u001b[39mfit(documents)\n\u001b[1;32m     15\u001b[0m rag_params \u001b[38;5;241m=\u001b[39m \u001b[38;5;28mdict\u001b[39m(\n\u001b[1;32m     16\u001b[0m     query\u001b[38;5;241m=\u001b[39mquery,\n\u001b[1;32m     17\u001b[0m     index\u001b[38;5;241m=\u001b[39mindex,\n\u001b[0;32m   (...)\u001b[0m\n\u001b[1;32m     24\u001b[0m     search_context\u001b[38;5;241m=\u001b[39msearch_context\n\u001b[1;32m     25\u001b[0m )\n\u001b[0;32m---> 27\u001b[0m response \u001b[38;5;241m=\u001b[39m \u001b[43mrag\u001b[49m\u001b[43m(\u001b[49m\u001b[38;5;241;43m*\u001b[39;49m\u001b[38;5;241;43m*\u001b[39;49m\u001b[43mrag_params\u001b[49m\u001b[43m)\u001b[49m\n\u001b[1;32m     28\u001b[0m \u001b[38;5;28mprint\u001b[39m(response)\n",
      "File \u001b[0;32m/mnt/workspace/__ing/llming/DTC/course/utils/rag/query.py:64\u001b[0m, in \u001b[0;36mrag\u001b[0;34m(**kwargs)\u001b[0m\n\u001b[1;32m     62\u001b[0m     search_results \u001b[38;5;241m=\u001b[39m elastic_search(es_client, index_name, query, filter_dict, boost, num_results)\n\u001b[1;32m     63\u001b[0m \u001b[38;5;28;01melse\u001b[39;00m:\n\u001b[0;32m---> 64\u001b[0m     \u001b[38;5;28;01mraise\u001b[39;00m SearchContextWrongValueError(\n\u001b[1;32m     65\u001b[0m         \u001b[38;5;124m\"\u001b[39m\u001b[38;5;124mParameter search_context value must be in [\u001b[39m\u001b[38;5;124m'\u001b[39m\u001b[38;5;124mminsearch\u001b[39m\u001b[38;5;124m'\u001b[39m\u001b[38;5;124m, \u001b[39m\u001b[38;5;124m'\u001b[39m\u001b[38;5;124melasticsearch\u001b[39m\u001b[38;5;124m'\u001b[39m\u001b[38;5;124m] or None\u001b[39m\u001b[38;5;124m\"\u001b[39m\n\u001b[1;32m     66\u001b[0m     )\n\u001b[1;32m     68\u001b[0m prompt \u001b[38;5;241m=\u001b[39m build_prompt(query, search_results, prompt_template_path)\n\u001b[1;32m     69\u001b[0m answer \u001b[38;5;241m=\u001b[39m llm(client, prompt, model)\n",
      "\u001b[0;31mSearchContextWrongValueError\u001b[0m: Parameter search_context value must be in ['minsearch', 'elasticsearch'] or None"
     ]
    }
   ],
   "source": [
    "search_context = 'NOT_A_SEARCH'\n",
    "model = 'gpt-4o'\n",
    "boost = {'question': 3.0, 'section': 0.5}\n",
    "filter_dict={'course': 'data-engineering-zoomcamp'}\n",
    "num_results = 5\n",
    "prompt_template_path = f\"{PROJECT_DIR}/prompts/course_qa.txt\"\n",
    "\n",
    "index = minsearch.Index(\n",
    "    text_fields=[\"question\", \"text\", \"section\"],\n",
    "    keyword_fields=[\"course\"]\n",
    ")\n",
    "\n",
    "index.fit(documents)\n",
    "\n",
    "rag_params = dict(\n",
    "    query=query,\n",
    "    index=index,\n",
    "    filter_dict=filter_dict,\n",
    "    boost=boost,\n",
    "    num_results=num_results,\n",
    "    prompt_template_path=prompt_template_path,\n",
    "    client=client,\n",
    "    model=model,\n",
    "    search_context=search_context\n",
    ")\n",
    "\n",
    "response = rag(**rag_params)\n",
    "print(response)"
   ]
  },
  {
   "cell_type": "code",
   "execution_count": null,
   "id": "12b2bb94-184b-4274-b30a-8ab0a75e202e",
   "metadata": {},
   "outputs": [],
   "source": []
  }
 ],
 "metadata": {
  "kernelspec": {
   "display_name": "Python 3.11.5 (dtc-llm-env)",
   "language": "python",
   "name": "dtc-llm-env"
  },
  "language_info": {
   "codemirror_mode": {
    "name": "ipython",
    "version": 3
   },
   "file_extension": ".py",
   "mimetype": "text/x-python",
   "name": "python",
   "nbconvert_exporter": "python",
   "pygments_lexer": "ipython3",
   "version": "3.11.5"
  }
 },
 "nbformat": 4,
 "nbformat_minor": 5
}
