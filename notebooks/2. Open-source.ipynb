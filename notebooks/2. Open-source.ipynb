{
 "cells": [
  {
   "cell_type": "code",
   "execution_count": 1,
   "id": "c6b5ab67-39e1-45ef-a2bb-317466279374",
   "metadata": {
    "tags": []
   },
   "outputs": [
    {
     "name": "stdout",
     "output_type": "stream",
     "text": [
      "HuggingFace cache directory has been set to: /mnt/workspace/__ing/llming/DTC/course/hf_cache\n"
     ]
    }
   ],
   "source": [
    "import sys\n",
    "import os\n",
    "\n",
    "## replace with root project dir\n",
    "PROJECT_DIR = \"/mnt/workspace/__ing/llming/DTC/course\"\n",
    "sys.path.append(PROJECT_DIR)\n",
    "\n",
    "from utils.huggingface import setup_hf_cache_dir\n",
    "from utils.utils import load_json_document\n",
    "\n",
    "from utils.elasticsearch import (\n",
    "    create_elasticsearch_client,\n",
    "    search_elasticsearch_indecis,\n",
    "    load_index_settings,\n",
    "    create_elasticsearch_index,\n",
    "    remove_elasticsearch_index,\n",
    "    index_documents,\n",
    ")\n",
    "\n",
    "from utils.query import rag\n",
    "\n",
    "from transformers import T5Tokenizer, T5ForConditionalGeneration\n",
    "from openai import OpenAI\n",
    "\n",
    "\n",
    "\n",
    "setup_hf_cache_dir(os.path.join(PROJECT_DIR, \"hf_cache\"))"
   ]
  },
  {
   "cell_type": "markdown",
   "id": "af3c0f58-5beb-42b5-9cfd-b1f0f375b41d",
   "metadata": {
    "jp-MarkdownHeadingCollapsed": true,
    "tags": []
   },
   "source": [
    "# Query & Documents"
   ]
  },
  {
   "cell_type": "code",
   "execution_count": 2,
   "id": "fc04d71e-d288-47fc-b2df-294035696f89",
   "metadata": {
    "tags": []
   },
   "outputs": [],
   "source": [
    "## question\n",
    "query = 'The course has already started, can I still enroll?'"
   ]
  },
  {
   "cell_type": "code",
   "execution_count": 3,
   "id": "683de922-eb20-4b46-b6fa-1a7eaac8d4f8",
   "metadata": {
    "tags": []
   },
   "outputs": [
    {
     "name": "stdout",
     "output_type": "stream",
     "text": [
      "{'text': 'It depends on your background and previous experience with modules. It is expected to require about 5 - 15 hours per week. [source1] [source2]\\nYou can also calculate it yourself using this data and then update this answer.', 'section': 'General course-related questions', 'question': 'Course - \\u200b\\u200bHow many hours per week am I expected to spend on this  course?', 'course': 'data-engineering-zoomcamp'}\n",
      "\n",
      "{'text': \"No, you can only get a certificate if you finish the course with a “live” cohort. We don't award certificates for the self-paced mode. The reason is you need to peer-review capstone(s) after submitting a project. You can only peer-review projects at the time the course is running.\", 'section': 'General course-related questions', 'question': 'Certificate - Can I follow the course in a self-paced mode and get a certificate?', 'course': 'data-engineering-zoomcamp'}\n",
      "\n"
     ]
    }
   ],
   "source": [
    "document_path = f'{PROJECT_DIR}/data/1/documents.json'\n",
    "\n",
    "documents = load_json_document(document_path)\n",
    "\n",
    "for _ in documents[10:12]:\n",
    "    print(_, end=\"\\n\\n\")"
   ]
  },
  {
   "cell_type": "markdown",
   "id": "0b8e2ccc-f954-4cff-b7db-63b9f2a5b685",
   "metadata": {
    "jp-MarkdownHeadingCollapsed": true,
    "tags": []
   },
   "source": [
    "# ElasticSearch Client"
   ]
  },
  {
   "cell_type": "code",
   "execution_count": 4,
   "id": "e465b291-3c60-4fe9-a1b6-48b397476b06",
   "metadata": {
    "tags": []
   },
   "outputs": [
    {
     "name": "stdout",
     "output_type": "stream",
     "text": [
      "Connected to Elasticsearch\n"
     ]
    },
    {
     "data": {
      "text/plain": [
       "['course-questions']"
      ]
     },
     "execution_count": 4,
     "metadata": {},
     "output_type": "execute_result"
    }
   ],
   "source": [
    "host = \"localhost\"\n",
    "port = 9200\n",
    "\n",
    "index_name = \"course-questions\"\n",
    "index_settings_path=f\"{PROJECT_DIR}/config/elasticsearch/course_qa_index_settings.json\"\n",
    "index_settings = load_index_settings(index_settings_path)\n",
    "\n",
    "recreate_index = False\n",
    "\n",
    "es_client = create_elasticsearch_client(host, port)\n",
    "search_elasticsearch_indecis(es_client)"
   ]
  },
  {
   "cell_type": "code",
   "execution_count": 5,
   "id": "5a24d05a-4d84-497c-8636-3c2abf158f6b",
   "metadata": {
    "tags": []
   },
   "outputs": [],
   "source": [
    "if recreate_index:\n",
    "    es_client = create_elasticsearch_client(host, port)\n",
    "    remove_elasticsearch_index(es_client, index_name)\n",
    "    create_elasticsearch_index(es_client, index_name, index_settings)\n",
    "\n",
    "\n",
    "    index_documents(es_client, index_name, documents)"
   ]
  },
  {
   "cell_type": "code",
   "execution_count": 6,
   "id": "d282768c-350f-4e15-a2f6-20527729b9e0",
   "metadata": {
    "tags": []
   },
   "outputs": [
    {
     "data": {
      "text/plain": [
       "['course-questions']"
      ]
     },
     "execution_count": 6,
     "metadata": {},
     "output_type": "execute_result"
    }
   ],
   "source": [
    "search_elasticsearch_indecis(\n",
    "        es_client,\n",
    ")"
   ]
  },
  {
   "cell_type": "markdown",
   "id": "0ba8a0ef-8f9d-439f-bb9e-524456812555",
   "metadata": {
    "jp-MarkdownHeadingCollapsed": true,
    "tags": []
   },
   "source": [
    "# HuggingFace models"
   ]
  },
  {
   "cell_type": "markdown",
   "id": "ea697e7f-88b4-4237-91fe-56ae9f80ecc0",
   "metadata": {
    "tags": []
   },
   "source": [
    "## 1. flan-t5-small"
   ]
  },
  {
   "cell_type": "code",
   "execution_count": 18,
   "id": "e1c14b4f-3cbe-407c-9597-78c4250388b3",
   "metadata": {
    "tags": []
   },
   "outputs": [
    {
     "name": "stdout",
     "output_type": "stream",
     "text": [
      "Registration is just to gauge interest before the start date.\n"
     ]
    }
   ],
   "source": [
    "model_name = \"google/flan-t5-small\"\n",
    "\n",
    "search_context = 'elasticsearch'\n",
    "boost = {'question': 3.0, 'section': 0.5}\n",
    "filter_dict={'course': 'data-engineering-zoomcamp'}\n",
    "num_results = 5\n",
    "prompt_template_path = os.path.join(PROJECT_DIR,\"prompts/course_qa.txt\")\n",
    "\n",
    "\n",
    "rag_params = dict(\n",
    "    es_client=es_client,\n",
    "    query=query,\n",
    "    index_name=index_name,\n",
    "    filter_dict=filter_dict,\n",
    "    boost=boost,\n",
    "    num_results=num_results,\n",
    "    prompt_template_path=prompt_template_path,\n",
    "    model_name=model_name,\n",
    "    search_context=search_context\n",
    ")\n",
    "\n",
    "response = rag(**rag_params)\n",
    "print(response)"
   ]
  },
  {
   "cell_type": "markdown",
   "id": "8476678b-aef9-4c2f-a394-253c996f5920",
   "metadata": {},
   "source": [
    "# Ollama"
   ]
  },
  {
   "cell_type": "code",
   "execution_count": 7,
   "id": "0f1ebad3-7fcf-4a50-9a8f-195261c0f5b2",
   "metadata": {
    "tags": []
   },
   "outputs": [],
   "source": [
    "client = OpenAI(\n",
    "    base_url='http://localhost:11434/v1/',\n",
    "    api_key='ollama',\n",
    ")"
   ]
  },
  {
   "cell_type": "code",
   "execution_count": 8,
   "id": "d71e50c6-6339-49c8-b276-4ca4310ec125",
   "metadata": {
    "tags": []
   },
   "outputs": [
    {
     "name": "stdout",
     "output_type": "stream",
     "text": [
      " Even if you have already started attending this Data Engineering Bootcamp, I am happy to assist with your enrollment process! Since we're in a self-paced course environment, please feel free to submit questions via Slack or through @ZoomcampQABot for support as needed.\n",
      "\n",
      "To ensure you are well prepared and can make the most out of this bootcamp experience once it officially begins, I encourage taking some time beforehand by setting up all dependencies such as Google Cloud account, installing Python 3 with Anaconda, Terraform, Git etc. It would also be helpful to review course prerequisites and syllabus just for your reference!\n",
      "\n",
      "Remember though that you are not required to register prior to starting the bootcamp because registration does serve an additional purpose of gauging interest before its start date - hence there is no specific deadline mentioned in relation with this. It's more important now than ever, as we always suggest avoid procrastinating and try turning your final project submissions ahead of time to prevent any last minute stress!\n",
      "\n",
      "So keep up the learning spirit and remember that I am here for you should you need assistance or have questions on course materials throughout this bootcamp journey. Good luck with everything, see you soon in class (virtually)!\n"
     ]
    }
   ],
   "source": [
    "model_name = \"phi3\"\n",
    "\n",
    "search_context = 'elasticsearch'\n",
    "boost = {'question': 3.0, 'section': 0.5}\n",
    "filter_dict={'course': 'data-engineering-zoomcamp'}\n",
    "num_results = 5\n",
    "prompt_template_path = os.path.join(PROJECT_DIR,\"prompts/course_qa.txt\")\n",
    "\n",
    "\n",
    "rag_params = dict(\n",
    "    es_client=es_client,\n",
    "    client=client,\n",
    "    query=query,\n",
    "    index_name=index_name,\n",
    "    filter_dict=filter_dict,\n",
    "    boost=boost,\n",
    "    num_results=num_results,\n",
    "    prompt_template_path=prompt_template_path,\n",
    "    model_name=model_name,\n",
    "    search_context=search_context\n",
    ")\n",
    "\n",
    "response = rag(**rag_params)\n",
    "print(response)"
   ]
  },
  {
   "cell_type": "code",
   "execution_count": null,
   "id": "099a6024-6a67-453a-a6dc-13c1ce1f09bf",
   "metadata": {},
   "outputs": [],
   "source": []
  }
 ],
 "metadata": {
  "kernelspec": {
   "display_name": "Python 3.11.5 (dtc-llm-env)",
   "language": "python",
   "name": "dtc-llm-env"
  },
  "language_info": {
   "codemirror_mode": {
    "name": "ipython",
    "version": 3
   },
   "file_extension": ".py",
   "mimetype": "text/x-python",
   "name": "python",
   "nbconvert_exporter": "python",
   "pygments_lexer": "ipython3",
   "version": "3.11.5"
  }
 },
 "nbformat": 4,
 "nbformat_minor": 5
}
